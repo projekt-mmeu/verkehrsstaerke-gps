{
 "cells": [
  {
   "cell_type": "code",
   "execution_count": null,
   "metadata": {},
   "outputs": [],
   "source": [
    "from envirocar import TrackAPI, DownloadClient, BboxSelector, ECConfig"
   ]
  },
  {
   "cell_type": "code",
   "execution_count": null,
   "metadata": {
    "id": "9N_xTQ9j-n9g"
   },
   "outputs": [],
   "source": [
    "# initialize API\n",
    "config = ECConfig()\n",
    "track_api = TrackAPI(api_client=DownloadClient(config=config))\n",
    "\n",
    "# Bounding box for the city of Muenster:\n",
    "\n",
    "bbox_muenster = BboxSelector([\n",
    "    7.4719, # min_x\n",
    "    51.8350, # min_y\n",
    "    7.7792, # max_x\n",
    "    52.0610  # max_y\n",
    "])\n",
    "\n",
    "# now we can send a query for the selected area; additionally we need to specify how many tracks we want, e.g. 10\n",
    "track_df = track_api.get_tracks(bbox=bbox_muenster, num_results=2000)"
   ]
  },
  {
   "cell_type": "code",
   "execution_count": null,
   "metadata": {
    "colab": {
     "base_uri": "https://localhost:8080/",
     "height": 502
    },
    "executionInfo": {
     "elapsed": 132,
     "status": "ok",
     "timestamp": 1640265502828,
     "user": {
      "displayName": "Christina Vergara Ossenberg",
      "photoUrl": "https://lh3.googleusercontent.com/a/default-user=s64",
      "userId": "02650763533864884671"
     },
     "user_tz": -60
    },
    "id": "tG7RX1U1_ij3",
    "outputId": "4f9939c6-479f-4a32-b3d1-5fff1f50e204"
   },
   "outputs": [],
   "source": [
    "track_df.head()"
   ]
  },
  {
   "cell_type": "code",
   "execution_count": null,
   "metadata": {
    "colab": {
     "base_uri": "https://localhost:8080/"
    },
    "executionInfo": {
     "elapsed": 98,
     "status": "ok",
     "timestamp": 1640265502829,
     "user": {
      "displayName": "Christina Vergara Ossenberg",
      "photoUrl": "https://lh3.googleusercontent.com/a/default-user=s64",
      "userId": "02650763533864884671"
     },
     "user_tz": -60
    },
    "id": "5LmjEmAZiLH9",
    "outputId": "d2f56a0f-7023-4ff6-b71b-ff2122d903e6"
   },
   "outputs": [],
   "source": [
    "track_df[\"track.id\"].unique().shape"
   ]
  },
  {
   "cell_type": "code",
   "execution_count": null,
   "metadata": {
    "colab": {
     "base_uri": "https://localhost:8080/"
    },
    "executionInfo": {
     "elapsed": 2516395,
     "status": "ok",
     "timestamp": 1640268019141,
     "user": {
      "displayName": "Christina Vergara Ossenberg",
      "photoUrl": "https://lh3.googleusercontent.com/a/default-user=s64",
      "userId": "02650763533864884671"
     },
     "user_tz": -60
    },
    "id": "s0mWPEyy-yNy",
    "outputId": "a8e073d4-cc9c-461d-e50d-0f8801a2d316"
   },
   "outputs": [],
   "source": [
    "# BEACHTE: DATEIPFAD MUSS GEGEBENENFALLS ANGEPASST WERDEN\n",
    "import os\n",
    "filepath = os.path.join(os.getcwd(), \"data\", \"envirocar_muenster\", \"envirocar_muenster_2000.shp\")\n",
    "\n",
    "track_df.to_file(filepath)"
   ]
  },
  {
   "cell_type": "code",
   "execution_count": null,
   "metadata": {
    "id": "-DnANs-AXuRJ"
   },
   "outputs": [],
   "source": [
    "import geopandas as gpd\n",
    "check = gpd.read_file(filepath)"
   ]
  },
  {
   "cell_type": "code",
   "execution_count": null,
   "metadata": {
    "colab": {
     "base_uri": "https://localhost:8080/",
     "height": 834
    },
    "executionInfo": {
     "elapsed": 973,
     "status": "ok",
     "timestamp": 1640268176724,
     "user": {
      "displayName": "Christina Vergara Ossenberg",
      "photoUrl": "https://lh3.googleusercontent.com/a/default-user=s64",
      "userId": "02650763533864884671"
     },
     "user_tz": -60
    },
    "id": "RoK5P95maCt8",
    "outputId": "52d32e5a-2bcb-4a4d-e196-54ed6500cf1d"
   },
   "outputs": [],
   "source": [
    "check"
   ]
  }
 ],
 "metadata": {
  "colab": {
   "authorship_tag": "ABX9TyMP4U2IwpdRIsZMKEGFVWUU",
   "collapsed_sections": [],
   "name": "EnviroCar_get_data.ipynb",
   "provenance": []
  },
  "kernelspec": {
   "display_name": "Python 3 (ipykernel)",
   "language": "python",
   "name": "python3"
  },
  "language_info": {
   "codemirror_mode": {
    "name": "ipython",
    "version": 3
   },
   "file_extension": ".py",
   "mimetype": "text/x-python",
   "name": "python",
   "nbconvert_exporter": "python",
   "pygments_lexer": "ipython3",
   "version": "3.9.12"
  }
 },
 "nbformat": 4,
 "nbformat_minor": 1
}
