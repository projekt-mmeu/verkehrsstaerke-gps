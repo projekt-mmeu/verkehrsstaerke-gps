{
 "cells": [
  {
   "cell_type": "markdown",
   "metadata": {
    "id": "pm_l1eRECfX-"
   },
   "source": [
    "In this file we will explore the data that we loaded through the Envirocar API for Münster (2000 tracks)."
   ]
  },
  {
   "cell_type": "markdown",
   "metadata": {
    "id": "lEiVQg_-vhWi"
   },
   "source": [
    "# Import packages and load data"
   ]
  },
  {
   "cell_type": "code",
   "execution_count": null,
   "metadata": {
    "id": "mM9qGudSYZgS"
   },
   "outputs": [],
   "source": [
    "import geopandas as gpd\n",
    "import contextily as cx\n",
    "import pandas as pd\n",
    "import missingno as msno\n",
    "import matplotlib.pyplot as plt\n",
    "import os\n",
    "from datetime import datetime"
   ]
  },
  {
   "cell_type": "code",
   "execution_count": null,
   "metadata": {
    "id": "OcZs5M_zYguF"
   },
   "outputs": [],
   "source": [
    "# load data (may take some time due to dataset size)\n",
    "filepath = os.path.join(os.getcwd(), \"data\", \"envirocar_muenster\", \"envirocar_muenster_2000.shp\")\n",
    "tracks = gpd.read_file(filepath)"
   ]
  },
  {
   "cell_type": "code",
   "execution_count": null,
   "metadata": {},
   "outputs": [],
   "source": [
    "tracks.set_crs(\"EPSG:4326\", inplace = True)"
   ]
  },
  {
   "cell_type": "markdown",
   "metadata": {
    "id": "7J06nzsdvnj4"
   },
   "source": [
    "# First glance\n",
    "We will take a look at several summaries to familiarize with the data."
   ]
  },
  {
   "cell_type": "code",
   "execution_count": null,
   "metadata": {
    "colab": {
     "base_uri": "https://localhost:8080/"
    },
    "executionInfo": {
     "elapsed": 52,
     "status": "ok",
     "timestamp": 1640623951162,
     "user": {
      "displayName": "Christina Vergara Ossenberg",
      "photoUrl": "https://lh3.googleusercontent.com/a/default-user=s64",
      "userId": "02650763533864884671"
     },
     "user_tz": -60
    },
    "id": "-MhgO64fvU2V",
    "outputId": "1dab401f-f6a1-4bd1-f23d-81288c4ec480"
   },
   "outputs": [],
   "source": [
    "tracks.shape"
   ]
  },
  {
   "cell_type": "code",
   "execution_count": null,
   "metadata": {
    "colab": {
     "base_uri": "https://localhost:8080/",
     "height": 461
    },
    "executionInfo": {
     "elapsed": 42,
     "status": "ok",
     "timestamp": 1640623951163,
     "user": {
      "displayName": "Christina Vergara Ossenberg",
      "photoUrl": "https://lh3.googleusercontent.com/a/default-user=s64",
      "userId": "02650763533864884671"
     },
     "user_tz": -60
    },
    "id": "mHAiYAjVv1ro",
    "outputId": "9c966d15-cd60-45f7-d68f-1d95482530a0"
   },
   "outputs": [],
   "source": [
    "tracks.head()"
   ]
  },
  {
   "cell_type": "code",
   "execution_count": null,
   "metadata": {
    "colab": {
     "base_uri": "https://localhost:8080/",
     "height": 522
    },
    "executionInfo": {
     "elapsed": 45243,
     "status": "ok",
     "timestamp": 1641805546680,
     "user": {
      "displayName": "János Sebestyén",
      "photoUrl": "https://lh3.googleusercontent.com/a-/AOh14Ggj_riP2Kn-ezsAAi5r0jnYo1ehRI4SdYkgddxk=s64",
      "userId": "07098745631714455021"
     },
     "user_tz": -60
    },
    "id": "Flx-y4oZOi7q",
    "outputId": "585fcb83-c626-4593-a807-0dbbdee221a9",
    "scrolled": true
   },
   "outputs": [],
   "source": [
    "tracks.describe(include='all')"
   ]
  },
  {
   "cell_type": "markdown",
   "metadata": {
    "id": "X9dYwcDov9g3"
   },
   "source": [
    "We have quite a lot of features. They are split into general features (like \"id\" or \"date\"), driving specific features (such as \"speed\" or throttle position\"), GPS specific features, sensor specific features and some calculated features such as CO2 emission. An overview can be found [here](https://github.com/enviroCar/envirocar-py/blob/master/examples/enviroCar_variable_description.ipynb).\n",
    "\n",
    "We can also see that for 2000 tracks we have a huge amount of data, namely >700.000 rows. Why is that?"
   ]
  },
  {
   "cell_type": "markdown",
   "metadata": {
    "id": "jPmqXHW2wag3"
   },
   "source": [
    "# Spatial and temporal resolution and coverage"
   ]
  },
  {
   "cell_type": "markdown",
   "metadata": {
    "id": "TiuvmE1OMh23"
   },
   "source": [
    "## Plotting all and individual tracks\n",
    "We can use contextily to plot our data against a background map. This is fairly straightforward, but we need to match the coordinate systems of our envirocar data to contextily data."
   ]
  },
  {
   "cell_type": "code",
   "execution_count": null,
   "metadata": {},
   "outputs": [],
   "source": [
    "print (tracks.crs)"
   ]
  },
  {
   "cell_type": "code",
   "execution_count": null,
   "metadata": {
    "colab": {
     "base_uri": "https://localhost:8080/",
     "height": 594
    },
    "executionInfo": {
     "elapsed": 80869,
     "status": "ok",
     "timestamp": 1640624032012,
     "user": {
      "displayName": "Christina Vergara Ossenberg",
      "photoUrl": "https://lh3.googleusercontent.com/a/default-user=s64",
      "userId": "02650763533864884671"
     },
     "user_tz": -60
    },
    "id": "Xvkv9oTHwogq",
    "outputId": "47b7c1a9-7ffb-4758-8b54-0a9c52347ef7"
   },
   "outputs": [],
   "source": [
    "ax = tracks.plot(figsize=(20, 15))\n",
    "cx.add_basemap(ax, crs=tracks.crs.to_string())"
   ]
  },
  {
   "cell_type": "markdown",
   "metadata": {
    "id": "QTojbEzcB8Rk"
   },
   "source": [
    "Interestingly enough, even though we requested tracks from inside our Münster bounding box, we have destinations all over Germany. Apparently we will be given tracks that are at some point within the bounding box."
   ]
  },
  {
   "cell_type": "code",
   "execution_count": null,
   "metadata": {
    "id": "0WT3lqO01ZBD"
   },
   "outputs": [],
   "source": [
    "tracks[\"time\"] = pd.to_datetime(tracks[\"time\"])"
   ]
  },
  {
   "cell_type": "code",
   "execution_count": null,
   "metadata": {
    "colab": {
     "base_uri": "https://localhost:8080/",
     "height": 806,
     "output_embedded_package_id": "1X1pTYIHVxQW7DAT1utBittErIshHKg1c"
    },
    "executionInfo": {
     "elapsed": 129543,
     "status": "ok",
     "timestamp": 1641811460689,
     "user": {
      "displayName": "János Sebestyén",
      "photoUrl": "https://lh3.googleusercontent.com/a-/AOh14Ggj_riP2Kn-ezsAAi5r0jnYo1ehRI4SdYkgddxk=s64",
      "userId": "07098745631714455021"
     },
     "user_tz": -60
    },
    "id": "Hd43CID-NI8j",
    "outputId": "184ff128-14bd-4a53-eeeb-c2e9270ebaa5"
   },
   "outputs": [],
   "source": [
    "# let's plot ten tracks side by side to get a feeling for the spatial distribution\n",
    "\n",
    "fig, ax = plt.subplots(2, 5, figsize=(50,30))\n",
    "for count, canvas in enumerate(ax.flatten()):\n",
    "  # plot the actual track first\n",
    "  track = tracks[tracks['track.id'] == tracks['track.id'].unique()[count]].plot(ax = canvas)\n",
    "\n",
    "  # due to resolution problems we end up getting a HTTPError while plotting the background\n",
    "  # to avoid this catch exception and change zoom factor\n",
    "  try: \n",
    "    cx.add_basemap(track, crs=tracks.crs.to_string(), source=cx.providers.Stamen.TonerLite) \n",
    "  except:\n",
    "    #pass\n",
    "    cx.add_basemap(track, zoom=15, crs=tracks.crs.to_string(), source=cx.providers.Stamen.TonerLite)\n",
    "  \n",
    "  # for better orientation plot date of track as title\n",
    "  track.set_title(\"Track on {}\".format(tracks[tracks['track.id'] == tracks['track.id'].unique()[count]][\"time\"].dt.date.iloc[0]))"
   ]
  },
  {
   "cell_type": "code",
   "execution_count": null,
   "metadata": {
    "colab": {
     "base_uri": "https://localhost:8080/",
     "height": 885,
     "output_embedded_package_id": "1W9zijAR1BPbb59YvLLz-a5jSo3iBcSHP"
    },
    "executionInfo": {
     "elapsed": 8026,
     "status": "ok",
     "timestamp": 1641811759378,
     "user": {
      "displayName": "János Sebestyén",
      "photoUrl": "https://lh3.googleusercontent.com/a-/AOh14Ggj_riP2Kn-ezsAAi5r0jnYo1ehRI4SdYkgddxk=s64",
      "userId": "07098745631714455021"
     },
     "user_tz": -60
    },
    "id": "p5VHQ0b7lykT",
    "outputId": "fe1b69b2-8d9d-40cc-f7be-311262fcf884"
   },
   "outputs": [],
   "source": [
    "  # A Single Track for higher resolution:\n",
    "  fig, ax = plt.subplots(1, 1, figsize=(50,30))\n",
    "  track = tracks[tracks['track.id'] == tracks['track.id'].unique()[1]].plot(ax = ax, markersize = 200)\n",
    "  try: \n",
    "    cx.add_basemap(track, crs=tracks.crs.to_string(), source=cx.providers.Stamen.TonerLite) \n",
    "  except:\n",
    "    #pass\n",
    "    cx.add_basemap(track, zoom=15, crs=tracks.crs.to_string(), source=cx.providers.Stamen.TonerLite)"
   ]
  },
  {
   "cell_type": "markdown",
   "metadata": {
    "id": "JvoovyyDMrzL"
   },
   "source": [
    "## Track length and measurement intervals"
   ]
  },
  {
   "cell_type": "code",
   "execution_count": null,
   "metadata": {
    "colab": {
     "base_uri": "https://localhost:8080/"
    },
    "executionInfo": {
     "elapsed": 344,
     "status": "ok",
     "timestamp": 1640624560601,
     "user": {
      "displayName": "Christina Vergara Ossenberg",
      "photoUrl": "https://lh3.googleusercontent.com/a/default-user=s64",
      "userId": "02650763533864884671"
     },
     "user_tz": -60
    },
    "id": "gxTT7lPuCNO7",
    "outputId": "86e3428d-e627-48ba-9fe0-cbdc5e479b47"
   },
   "outputs": [],
   "source": [
    "# looking at length of just one track\n",
    "tracks.groupby(\"track.id\")[\"id\"].count().describe()"
   ]
  },
  {
   "cell_type": "code",
   "execution_count": null,
   "metadata": {
    "colab": {
     "base_uri": "https://localhost:8080/",
     "height": 299
    },
    "executionInfo": {
     "elapsed": 765,
     "status": "ok",
     "timestamp": 1640624561356,
     "user": {
      "displayName": "Christina Vergara Ossenberg",
      "photoUrl": "https://lh3.googleusercontent.com/a/default-user=s64",
      "userId": "02650763533864884671"
     },
     "user_tz": -60
    },
    "id": "KAAMiApKG90j",
    "outputId": "ee3387d1-6812-4e67-c2fa-54c085f7eef6"
   },
   "outputs": [],
   "source": [
    "tracks.groupby(\"track.id\")[\"id\"].count().plot.box(vert=False, title=\"Amount of entries per track\")"
   ]
  },
  {
   "cell_type": "code",
   "execution_count": null,
   "metadata": {
    "colab": {
     "base_uri": "https://localhost:8080/",
     "height": 1000
    },
    "executionInfo": {
     "elapsed": 524,
     "status": "ok",
     "timestamp": 1640624561868,
     "user": {
      "displayName": "Christina Vergara Ossenberg",
      "photoUrl": "https://lh3.googleusercontent.com/a/default-user=s64",
      "userId": "02650763533864884671"
     },
     "user_tz": -60
    },
    "id": "8Judx9icDChq",
    "outputId": "3d3d5dc0-66e3-46b9-96f4-1901b0375ecd"
   },
   "outputs": [],
   "source": [
    "# what are the intervals between the entries? just looking at one track\n",
    "tracks[tracks['track.id'] == '61bf3b387b277d59bd102f26'].head(15)"
   ]
  },
  {
   "cell_type": "markdown",
   "metadata": {
    "id": "_0ZGd1Z3DQJW"
   },
   "source": [
    "The track length varies greatly. Measurements are taken every 5-6s. Thus the longer the track, the more entries. A track with ~60 entries takes about 5 minutes."
   ]
  },
  {
   "cell_type": "markdown",
   "metadata": {
    "id": "TRtaXyCEMwKB"
   },
   "source": [
    "## Distribution of tracks over time"
   ]
  },
  {
   "cell_type": "code",
   "execution_count": null,
   "metadata": {
    "colab": {
     "base_uri": "https://localhost:8080/",
     "height": 328
    },
    "executionInfo": {
     "elapsed": 2239,
     "status": "ok",
     "timestamp": 1641805582432,
     "user": {
      "displayName": "János Sebestyén",
      "photoUrl": "https://lh3.googleusercontent.com/a-/AOh14Ggj_riP2Kn-ezsAAi5r0jnYo1ehRI4SdYkgddxk=s64",
      "userId": "07098745631714455021"
     },
     "user_tz": -60
    },
    "id": "Rb4IT9vpDzbH",
    "outputId": "f2caf0d2-b662-4d71-9fc6-5cc470b09643"
   },
   "outputs": [],
   "source": [
    "tracks[\"time\"] = pd.to_datetime(tracks[\"time\"])\n",
    "tracks.groupby(tracks[\"time\"].dt.year)[\"track.id\"].nunique().plot(kind=\"bar\", title=\"Amount of tracks per year\")"
   ]
  },
  {
   "cell_type": "code",
   "execution_count": null,
   "metadata": {
    "colab": {
     "base_uri": "https://localhost:8080/",
     "height": 35
    },
    "executionInfo": {
     "elapsed": 663,
     "status": "ok",
     "timestamp": 1641806191614,
     "user": {
      "displayName": "János Sebestyén",
      "photoUrl": "https://lh3.googleusercontent.com/a-/AOh14Ggj_riP2Kn-ezsAAi5r0jnYo1ehRI4SdYkgddxk=s64",
      "userId": "07098745631714455021"
     },
     "user_tz": -60
    },
    "id": "4rfwzcq1PSUY",
    "outputId": "2495e634-db8c-4994-b523-724e627bc1cf"
   },
   "outputs": [],
   "source": [
    "print ('Timespan: ' + tracks['time'].min().strftime('%Y-%m-%d') + \" - \" + tracks['time'].max().strftime('%Y-%m-%d'))"
   ]
  },
  {
   "cell_type": "markdown",
   "metadata": {
    "id": "4mLBqqxuJD7r"
   },
   "source": [
    "# Missing data"
   ]
  },
  {
   "cell_type": "code",
   "execution_count": null,
   "metadata": {
    "colab": {
     "base_uri": "https://localhost:8080/",
     "height": 528
    },
    "executionInfo": {
     "elapsed": 18239,
     "status": "ok",
     "timestamp": 1640624580563,
     "user": {
      "displayName": "Christina Vergara Ossenberg",
      "photoUrl": "https://lh3.googleusercontent.com/a/default-user=s64",
      "userId": "02650763533864884671"
     },
     "user_tz": -60
    },
    "id": "7pBIjPxUJFpQ",
    "outputId": "ebe49227-0e8b-4954-8157-babc31e31d08"
   },
   "outputs": [],
   "source": [
    "msno.matrix(tracks, labels=True)"
   ]
  },
  {
   "cell_type": "markdown",
   "metadata": {
    "id": "p2Aj8GNUKaJn"
   },
   "source": [
    "The data has large parts missing, especially of the calcualted values concerning CO2 etc. GPS, track and sensor data as well as geometry and time are mostly complete."
   ]
  }
 ],
 "metadata": {
  "colab": {
   "collapsed_sections": [],
   "name": "envirocar_muenster_exploration.ipynb",
   "provenance": [],
   "toc_visible": true
  },
  "kernelspec": {
   "display_name": "Python 3 (ipykernel)",
   "language": "python",
   "name": "python3"
  },
  "language_info": {
   "codemirror_mode": {
    "name": "ipython",
    "version": 3
   },
   "file_extension": ".py",
   "mimetype": "text/x-python",
   "name": "python",
   "nbconvert_exporter": "python",
   "pygments_lexer": "ipython3",
   "version": "3.9.12"
  }
 },
 "nbformat": 4,
 "nbformat_minor": 1
}
