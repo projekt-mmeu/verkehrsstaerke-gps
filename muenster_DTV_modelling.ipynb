{
 "cells": [
  {
   "cell_type": "markdown",
   "metadata": {
    "id": "V_z2nFHypB0B"
   },
   "source": [
    "After deriving a traffic density estimate from our Envirocar data, we can now build a model using open traffic data of Münster city (found [here](https://traffics.codeformuenster.org/)). Several models will be tested."
   ]
  },
  {
   "cell_type": "markdown",
   "metadata": {
    "id": "0qnv-EDfp2eG"
   },
   "source": [
    "# LOAD DATA\n",
    "For better accessibility all data is saved as shape files."
   ]
  },
  {
   "cell_type": "code",
   "execution_count": null,
   "metadata": {
    "executionInfo": {
     "elapsed": 386,
     "status": "ok",
     "timestamp": 1641825168910,
     "user": {
      "displayName": "János Sebestyén",
      "photoUrl": "https://lh3.googleusercontent.com/a-/AOh14Ggj_riP2Kn-ezsAAi5r0jnYo1ehRI4SdYkgddxk=s64",
      "userId": "07098745631714455021"
     },
     "user_tz": -60
    },
    "id": "ULcaZwZpp5iJ"
   },
   "outputs": [],
   "source": [
    "import geopandas as gpd\n",
    "import matplotlib.pyplot as plt\n",
    "import contextily as cx\n",
    "import pandas as pd\n",
    "from mpl_toolkits.axes_grid1 import make_axes_locatable\n",
    "from shapely.geometry import Point\n",
    "import os"
   ]
  },
  {
   "cell_type": "code",
   "execution_count": null,
   "metadata": {},
   "outputs": [],
   "source": [
    "filepath = os.path.join(os.getcwd(), \"data\")"
   ]
  },
  {
   "cell_type": "markdown",
   "metadata": {
    "id": "PCBJEVf4Cb02"
   },
   "source": [
    "## Traffic density estimation"
   ]
  },
  {
   "cell_type": "code",
   "execution_count": null,
   "metadata": {
    "colab": {
     "base_uri": "https://localhost:8080/",
     "height": 204
    },
    "executionInfo": {
     "elapsed": 4720,
     "status": "ok",
     "timestamp": 1641825190076,
     "user": {
      "displayName": "János Sebestyén",
      "photoUrl": "https://lh3.googleusercontent.com/a-/AOh14Ggj_riP2Kn-ezsAAi5r0jnYo1ehRI4SdYkgddxk=s64",
      "userId": "07098745631714455021"
     },
     "user_tz": -60
    },
    "id": "yWCHhLqgq71l",
    "outputId": "85276ba4-0e8b-4ea3-db64-2b65620ff3ca"
   },
   "outputs": [],
   "source": [
    "# read in estimated traffic density we created from EnviroCar tracks\n",
    "\n",
    "# 2018 data\n",
    "results = gpd.read_file(os.path.join(filepath, \"results\", \"muenster_2018_est_traffic_density.shp\"))\n",
    "\n",
    "# we need to fix the columns headers (got clipped during saving)\n",
    "results.rename(columns={\"num_tracks\": \"num_tracks_weekend\", \"num_trac_1\": \"num_tracks_weekday\", \"num_trac_2\": \"num_tracks_total\"}, inplace=True)\n",
    "results.head()"
   ]
  },
  {
   "cell_type": "code",
   "execution_count": null,
   "metadata": {
    "executionInfo": {
     "elapsed": 9,
     "status": "ok",
     "timestamp": 1641825190077,
     "user": {
      "displayName": "János Sebestyén",
      "photoUrl": "https://lh3.googleusercontent.com/a-/AOh14Ggj_riP2Kn-ezsAAi5r0jnYo1ehRI4SdYkgddxk=s64",
      "userId": "07098745631714455021"
     },
     "user_tz": -60
    },
    "id": "XxrexduXh_-q"
   },
   "outputs": [],
   "source": [
    "# to see more clearly, exclude streets with no tracks on them\n",
    "results=results.loc[results[\"num_tracks_total\"] > 0]"
   ]
  },
  {
   "cell_type": "markdown",
   "metadata": {
    "id": "-DEEH_2KCg0g"
   },
   "source": [
    "## Public DTV data"
   ]
  },
  {
   "cell_type": "markdown",
   "metadata": {
    "id": "tOSJZ3MaC1Uh"
   },
   "source": [
    "We will use publicly available DTV data for Münster ([here](https://traffics.codeformuenster.org/)) to calibrate our model. In total there is 10 measuring stations. "
   ]
  },
  {
   "cell_type": "code",
   "execution_count": null,
   "metadata": {
    "colab": {
     "base_uri": "https://localhost:8080/",
     "height": 359
    },
    "executionInfo": {
     "elapsed": 315,
     "status": "ok",
     "timestamp": 1641825190385,
     "user": {
      "displayName": "János Sebestyén",
      "photoUrl": "https://lh3.googleusercontent.com/a-/AOh14Ggj_riP2Kn-ezsAAi5r0jnYo1ehRI4SdYkgddxk=s64",
      "userId": "07098745631714455021"
     },
     "user_tz": -60
    },
    "id": "MmdLpjmGgoq7",
    "outputId": "e989d2ca-564f-4fbd-f43c-95223072d191"
   },
   "outputs": [],
   "source": [
    "# DTV Data for comparison in the end\n",
    "# Cars per Day\n",
    "\n",
    "DTV=pd.read_csv(os.path.join(filepath, \"dtv_muenster.csv\"), sep=\";\")\n",
    "\n",
    "DTV[\"dtv_weekend\"]=DTV[\"dtv_weekend\"].str.replace(\" \",\"\")\n",
    "DTV[\"dtv_weekend\"]=DTV[\"dtv_weekend\"].str.replace(\",\",\".\").astype(float)\n",
    "DTV[\"dtv_weekdays\"]=DTV[\"dtv_weekdays\"].str.replace(\" \",\"\")\n",
    "DTV[\"dtv_weekdays\"]=DTV[\"dtv_weekdays\"].str.replace(\",\",\".\").astype(float)\n",
    "DTV[\"dtv\"]=DTV[\"dtv\"].str.replace(\" \",\"\")\n",
    "DTV[\"dtv\"]=DTV[\"dtv\"].str.replace(\",\",\".\").astype(float)\n",
    "\n",
    "DTV"
   ]
  },
  {
   "cell_type": "markdown",
   "metadata": {
    "id": "7pG1OjHWDoP-"
   },
   "source": [
    "# PREPARE DTV DATA"
   ]
  },
  {
   "cell_type": "markdown",
   "metadata": {
    "id": "BWC21uu5lo57"
   },
   "source": [
    "## Retrieve the exact location of DTV measuring stations in Münster "
   ]
  },
  {
   "cell_type": "code",
   "execution_count": null,
   "metadata": {
    "colab": {
     "base_uri": "https://localhost:8080/",
     "height": 359
    },
    "executionInfo": {
     "elapsed": 18,
     "status": "ok",
     "timestamp": 1641825190385,
     "user": {
      "displayName": "János Sebestyén",
      "photoUrl": "https://lh3.googleusercontent.com/a-/AOh14Ggj_riP2Kn-ezsAAi5r0jnYo1ehRI4SdYkgddxk=s64",
      "userId": "07098745631714455021"
     },
     "user_tz": -60
    },
    "id": "h7t8sRSwnQTl",
    "outputId": "380f1b45-1c0e-4ad0-a9f6-f6ef1f4843f7"
   },
   "outputs": [],
   "source": [
    "#Crossings, where DTV Data was measured\n",
    "DTV[\"crossings\"]=[\"Neutor / Wilhelmstr.\", \"Wolbecker Str. / Dortmunder Str.\", \"Hüfferstr. / Badestr.\",\"Hammer Str. / Geiststr.\", \"Eisenbahnstr. / Eisenbahnstr.\", \"Gartenstr. / Bohlweg\", \"Warendorfer Str. / Piusallee\", \"Hafenstr. / Von-Steuben-Str.\", \"Weseler Str. / Kolde-Ring\", \"Hansaring / Albersloher Weg\"]\n",
    "DTV[\"crossings\"]=DTV[\"crossings\"].str.replace(\"Str.\", \"Straße\")\n",
    "DTV[\"crossings\"]=DTV[\"crossings\"].str.replace(\"str.\", \"straße\")\n",
    "coordinates=[Point(7.61508,51.96729),Point(7.64259,51.95656),Point(7.61474,51.96196),Point(7.6231,51.94485),Point(7.63521,51.96101),Point(7.63425,51.96564),Point(7.63631,51.96188),Point(7.63139,51.95398),Point(7.6166,51.94953),Point(7.63661,51.95289)]\n",
    "DTV[\"geometry\"]=coordinates\n",
    "DTV.head(10)"
   ]
  },
  {
   "cell_type": "code",
   "execution_count": null,
   "metadata": {
    "colab": {
     "base_uri": "https://localhost:8080/"
    },
    "executionInfo": {
     "elapsed": 346,
     "status": "ok",
     "timestamp": 1641825190714,
     "user": {
      "displayName": "János Sebestyén",
      "photoUrl": "https://lh3.googleusercontent.com/a-/AOh14Ggj_riP2Kn-ezsAAi5r0jnYo1ehRI4SdYkgddxk=s64",
      "userId": "07098745631714455021"
     },
     "user_tz": -60
    },
    "id": "Qr4CvqckxTlP",
    "outputId": "aac4fb68-d1e3-4e5f-d3d4-f921c1e77ae2"
   },
   "outputs": [],
   "source": [
    "DTV=gpd.GeoDataFrame(DTV)\n",
    "DTV=DTV.set_crs(4326,allow_override=True)\n",
    "DTV=DTV.to_crs(3857) # Set and change coordinate reference system\n",
    "DTV.crs"
   ]
  },
  {
   "cell_type": "code",
   "execution_count": null,
   "metadata": {
    "colab": {
     "base_uri": "https://localhost:8080/",
     "height": 915
    },
    "executionInfo": {
     "elapsed": 2133,
     "status": "ok",
     "timestamp": 1641825192843,
     "user": {
      "displayName": "János Sebestyén",
      "photoUrl": "https://lh3.googleusercontent.com/a-/AOh14Ggj_riP2Kn-ezsAAi5r0jnYo1ehRI4SdYkgddxk=s64",
      "userId": "07098745631714455021"
     },
     "user_tz": -60
    },
    "id": "ikLD-9xlZotK",
    "outputId": "3eac7b4d-79df-4140-c768-c2ea10d98981"
   },
   "outputs": [],
   "source": [
    "# lets take a look at the location of measuring points\n",
    "DTV.explore(color=\"red\", tiles=\"Stamen TonerLite\", marker_kwds={\"radius\": 5})"
   ]
  },
  {
   "cell_type": "markdown",
   "metadata": {
    "id": "M5SKJI-gEDXH"
   },
   "source": [
    "All measuring points lie within the city centre and on fairly big roads."
   ]
  },
  {
   "cell_type": "markdown",
   "metadata": {
    "id": "Do_55vBHY51h"
   },
   "source": [
    "## Match the crossing (measuring station) to estimated traffic density (one road segment)"
   ]
  },
  {
   "cell_type": "code",
   "execution_count": null,
   "metadata": {
    "colab": {
     "base_uri": "https://localhost:8080/",
     "height": 455
    },
    "executionInfo": {
     "elapsed": 468,
     "status": "ok",
     "timestamp": 1641825193308,
     "user": {
      "displayName": "János Sebestyén",
      "photoUrl": "https://lh3.googleusercontent.com/a-/AOh14Ggj_riP2Kn-ezsAAi5r0jnYo1ehRI4SdYkgddxk=s64",
      "userId": "07098745631714455021"
     },
     "user_tz": -60
    },
    "id": "7Q5hLm8JAd9m",
    "outputId": "01e5b31e-d9d9-457b-80d3-e7f4d72f7e4f"
   },
   "outputs": [],
   "source": [
    "# Get the road segment corresponding to the crossing -> Use buffered roads\n",
    "matched_roads_buffered=results.copy(deep=True)\n",
    "matched_roads_buffered[\"geometry\"] = matched_roads_buffered[\"geometry\"].buffer(distance=15, cap_style=2)\n",
    "\n",
    "# an efficient and concise way including total / weekday / weekend number of tracks is to use a spatial join\n",
    "crossing_concise = gpd.sjoin(matched_roads_buffered, DTV, how=\"right\", predicate=\"intersects\")\n",
    "crossing_concise.head()"
   ]
  },
  {
   "cell_type": "code",
   "execution_count": null,
   "metadata": {
    "colab": {
     "base_uri": "https://localhost:8080/",
     "height": 390
    },
    "executionInfo": {
     "elapsed": 13,
     "status": "ok",
     "timestamp": 1641825193308,
     "user": {
      "displayName": "János Sebestyén",
      "photoUrl": "https://lh3.googleusercontent.com/a-/AOh14Ggj_riP2Kn-ezsAAi5r0jnYo1ehRI4SdYkgddxk=s64",
      "userId": "07098745631714455021"
     },
     "user_tz": -60
    },
    "id": "kbYp1Kw9RS1N",
    "outputId": "07c95b64-be40-4e2f-e110-d05852265ce1"
   },
   "outputs": [],
   "source": [
    "# now we can group by name and get the average number of car tracks (total, weekend, weekday) (aka our estimated traffic density) per measuring point\n",
    "# these will be the x values for our linear regression\n",
    "est = crossing_concise.groupby(by=\"road\")[[\"num_tracks_weekend\", \"num_tracks_weekday\", \"num_tracks_total\"]].mean()\n",
    "est"
   ]
  },
  {
   "cell_type": "code",
   "execution_count": null,
   "metadata": {
    "colab": {
     "base_uri": "https://localhost:8080/",
     "height": 573
    },
    "executionInfo": {
     "elapsed": 12,
     "status": "ok",
     "timestamp": 1641825193309,
     "user": {
      "displayName": "János Sebestyén",
      "photoUrl": "https://lh3.googleusercontent.com/a-/AOh14Ggj_riP2Kn-ezsAAi5r0jnYo1ehRI4SdYkgddxk=s64",
      "userId": "07098745631714455021"
     },
     "user_tz": -60
    },
    "id": "BlfabfwkasjA",
    "outputId": "28171b84-e277-4de4-c94c-46a1716d7f38"
   },
   "outputs": [],
   "source": [
    "# for easier handling join the estimates back to the DTV data\n",
    "# rename first\n",
    "est.columns = [\"num_tracks_weekend_single\", \"num_tracks_weekday_single\", \"num_tracks_total_single\"]\n",
    "DTV = DTV.join(est, on=\"road\", how=\"left\")\n",
    "DTV"
   ]
  },
  {
   "cell_type": "markdown",
   "metadata": {
    "id": "CyFQ7Jm_Z10x"
   },
   "source": [
    "Here for 6 out of the 10 locations where measurements were performed the number of tracks on the corresponding road segment could be determined. Let's take a look at the unmatched points:"
   ]
  },
  {
   "cell_type": "code",
   "execution_count": null,
   "metadata": {
    "colab": {
     "base_uri": "https://localhost:8080/",
     "height": 608
    },
    "executionInfo": {
     "elapsed": 5113,
     "status": "ok",
     "timestamp": 1641825198411,
     "user": {
      "displayName": "János Sebestyén",
      "photoUrl": "https://lh3.googleusercontent.com/a-/AOh14Ggj_riP2Kn-ezsAAi5r0jnYo1ehRI4SdYkgddxk=s64",
      "userId": "07098745631714455021"
     },
     "user_tz": -60
    },
    "id": "mdhJ62ium_NZ",
    "outputId": "76a43395-f40e-485d-909b-e422be5b3a10"
   },
   "outputs": [],
   "source": [
    "fig, ax=plt.subplots(1,1, figsize=(20,15))\n",
    "results.loc[results[\"name\"].isin(DTV[\"road\"][1].split(\" / \"))].plot(ax=ax, color=\"blue\")\n",
    "#cx.add_basemap(ax=ax, crs=results.crs, source=cx.providers.OpenStreetMap.BlackAndWhite)\n",
    "ax.annotate(\".\", xy=(DTV.geometry[1].x, DTV.geometry[1].y), xytext=(20, 20), color=\"None\", textcoords=\"offset points\",arrowprops=dict(arrowstyle=\"->\",\n",
    "                            connectionstyle=\"arc3\", color=\"r\"))\n",
    "plt.tight_layout()\n",
    "plt.show()"
   ]
  },
  {
   "cell_type": "code",
   "execution_count": null,
   "metadata": {
    "colab": {
     "base_uri": "https://localhost:8080/",
     "height": 573
    },
    "executionInfo": {
     "elapsed": 3787,
     "status": "ok",
     "timestamp": 1641825202182,
     "user": {
      "displayName": "János Sebestyén",
      "photoUrl": "https://lh3.googleusercontent.com/a-/AOh14Ggj_riP2Kn-ezsAAi5r0jnYo1ehRI4SdYkgddxk=s64",
      "userId": "07098745631714455021"
     },
     "user_tz": -60
    },
    "id": "h2ru-SkLUu-E",
    "outputId": "79d45b5b-205e-4915-e3ff-b96d95bb2b85"
   },
   "outputs": [],
   "source": [
    "fig, ax = plt.subplots(1, 2, figsize=(15, 30))\n",
    "\n",
    "DTV.plot(ax=ax[0], color=\"#1f78b4\")\n",
    "cx.add_basemap(ax=ax[0], crs= DTV.crs, source=cx.providers.Stamen.TonerLite)\n",
    "results.plot(ax=ax[0], alpha=0.5, color=\"#b2df8a\", linewidth=5)\n",
    "DTV.plot(ax=ax[0], color=\"#1f78b4\")\n",
    "\n",
    "\n",
    "results.plot(ax=ax[1], color=\"#b2df8a\", linewidth=3)\n",
    "cx.add_basemap(ax=ax[1], crs= results.crs, source=cx.providers.Stamen.TonerLite)\n",
    "DTV.plot(ax=ax[1], color=\"#1f78b4\")"
   ]
  },
  {
   "cell_type": "markdown",
   "metadata": {
    "id": "uyuYmnwIf_ed"
   },
   "source": [
    "Clearly there have been tracks on this road. However not on the section we are interested in.\n"
   ]
  },
  {
   "cell_type": "markdown",
   "metadata": {
    "id": "RkTSTNeUaJim"
   },
   "source": [
    "## Match the crossing (measuring station) to estimated traffic density (all road segments that correspond to both the roads on the crossing)"
   ]
  },
  {
   "cell_type": "code",
   "execution_count": null,
   "metadata": {
    "colab": {
     "base_uri": "https://localhost:8080/"
    },
    "executionInfo": {
     "elapsed": 18,
     "status": "ok",
     "timestamp": 1641825202182,
     "user": {
      "displayName": "János Sebestyén",
      "photoUrl": "https://lh3.googleusercontent.com/a-/AOh14Ggj_riP2Kn-ezsAAi5r0jnYo1ehRI4SdYkgddxk=s64",
      "userId": "07098745631714455021"
     },
     "user_tz": -60
    },
    "id": "NdpqtUFX6hFb",
    "outputId": "0b14c4b6-a9a0-45d6-d465-6116b04f80cd"
   },
   "outputs": [],
   "source": [
    "# some measuring points are at the intersections of two streets (e.g. \"Promenade / Eisenbahnstraße\")\n",
    "# we need to split those entries into two street names and will save them as new column\n",
    "DTV[\"single_street\"] = DTV[\"crossings\"].str.split(pat=\" / \")\n",
    "DTV[\"single_street\"]"
   ]
  },
  {
   "cell_type": "code",
   "execution_count": null,
   "metadata": {
    "colab": {
     "base_uri": "https://localhost:8080/",
     "height": 1000
    },
    "executionInfo": {
     "elapsed": 14,
     "status": "ok",
     "timestamp": 1641825202183,
     "user": {
      "displayName": "János Sebestyén",
      "photoUrl": "https://lh3.googleusercontent.com/a-/AOh14Ggj_riP2Kn-ezsAAi5r0jnYo1ehRI4SdYkgddxk=s64",
      "userId": "07098745631714455021"
     },
     "user_tz": -60
    },
    "id": "eWoNmjOa9mil",
    "outputId": "e12b27ae-e925-4841-8503-c5e4632678fc"
   },
   "outputs": [],
   "source": [
    "# now we can expand our df using the new column: if column has more than one entry, copy all other columns and create a new row\n",
    "DTV_isol = DTV.explode(column=\"single_street\")\n",
    "DTV_isol"
   ]
  },
  {
   "cell_type": "code",
   "execution_count": null,
   "metadata": {
    "colab": {
     "base_uri": "https://localhost:8080/",
     "height": 390
    },
    "executionInfo": {
     "elapsed": 12,
     "status": "ok",
     "timestamp": 1641825202183,
     "user": {
      "displayName": "János Sebestyén",
      "photoUrl": "https://lh3.googleusercontent.com/a-/AOh14Ggj_riP2Kn-ezsAAi5r0jnYo1ehRI4SdYkgddxk=s64",
      "userId": "07098745631714455021"
     },
     "user_tz": -60
    },
    "id": "74RsIoE1-N0s",
    "outputId": "721d9694-d24a-46ab-8a1f-48bb104836ca"
   },
   "outputs": [],
   "source": [
    "# this new feature we can now use to join results data on name, then group by original name (the one with \"/\") and get average track coutns\n",
    "# because we are not joining index on index, we need to use merge instead of join\n",
    "joined = results.merge(DTV_isol, how=\"right\", left_on=\"name\", right_on=\"single_street\")\n",
    "\n",
    "# grouping and aggregating same as above\n",
    "est = joined.groupby(by=\"road\")[[\"num_tracks_weekend\", \"num_tracks_weekday\", \"num_tracks_total\"]].mean()\n",
    "est"
   ]
  },
  {
   "cell_type": "code",
   "execution_count": null,
   "metadata": {
    "colab": {
     "base_uri": "https://localhost:8080/",
     "height": 780
    },
    "executionInfo": {
     "elapsed": 402,
     "status": "ok",
     "timestamp": 1641825202575,
     "user": {
      "displayName": "János Sebestyén",
      "photoUrl": "https://lh3.googleusercontent.com/a-/AOh14Ggj_riP2Kn-ezsAAi5r0jnYo1ehRI4SdYkgddxk=s64",
      "userId": "07098745631714455021"
     },
     "user_tz": -60
    },
    "id": "7v3tZgvNA7Ur",
    "outputId": "dfaa48c8-9af3-47bf-cf49-2d90d6dc39a2"
   },
   "outputs": [],
   "source": [
    "# rename and add results to DTV\n",
    "est.columns = [\"num_tracks_weekend_multi\", \"num_tracks_weekday_multi\", \"num_tracks_total_multi\"]\n",
    "DTV = DTV.join(est, on=\"road\", how=\"left\")\n",
    "DTV"
   ]
  },
  {
   "cell_type": "markdown",
   "metadata": {
    "id": "FSi9Xf3ratl-"
   },
   "source": [
    "# EXECUTE LINEAR REGRESSION"
   ]
  },
  {
   "cell_type": "markdown",
   "metadata": {
    "id": "fvKW3eB6qGpI"
   },
   "source": [
    "## Single segment\n",
    "The first linear model will use only the segment on which measuring station is located. We will compare models for total, weekend, weekday data and one combining all, so in total four models.\n",
    "\n",
    "1. dtv = a + b * num_tracks_total_single\n",
    "2. dtv_weekdays = c + d * num_tracks_weekday_single\n",
    "3. dtv_weekend = e + f * num_tracks_weekend_single\n",
    "4. dtv = g + h * num_tracks_weekday_single + i * num_tracks_weekend_single"
   ]
  },
  {
   "cell_type": "code",
   "execution_count": null,
   "metadata": {
    "colab": {
     "base_uri": "https://localhost:8080/",
     "height": 503
    },
    "executionInfo": {
     "elapsed": 27,
     "status": "ok",
     "timestamp": 1641825202576,
     "user": {
      "displayName": "János Sebestyén",
      "photoUrl": "https://lh3.googleusercontent.com/a-/AOh14Ggj_riP2Kn-ezsAAi5r0jnYo1ehRI4SdYkgddxk=s64",
      "userId": "07098745631714455021"
     },
     "user_tz": -60
    },
    "id": "UZc2_McLo71W",
    "outputId": "3d5c7f26-c1ba-43cc-ade2-5f47593a96c4"
   },
   "outputs": [],
   "source": [
    "# we need a hard copy because we need to drop stations without num_tracks (and later we need full data again)\n",
    "data = DTV.copy()\n",
    "data = data.dropna(subset=[\"num_tracks_total_single\"])\n",
    "data"
   ]
  },
  {
   "cell_type": "code",
   "execution_count": null,
   "metadata": {
    "executionInfo": {
     "elapsed": 25,
     "status": "ok",
     "timestamp": 1641825202576,
     "user": {
      "displayName": "János Sebestyén",
      "photoUrl": "https://lh3.googleusercontent.com/a-/AOh14Ggj_riP2Kn-ezsAAi5r0jnYo1ehRI4SdYkgddxk=s64",
      "userId": "07098745631714455021"
     },
     "user_tz": -60
    },
    "id": "oK3cnlFHrdtq"
   },
   "outputs": [],
   "source": [
    "from sklearn.linear_model import LinearRegression\n",
    "# set up four model instances (see description above) and fit to data\n",
    "# we need to give df instead of series, otherwise method will throw error\n",
    "model_1 = LinearRegression()\n",
    "model_1.fit(X=data[[\"num_tracks_total_single\"]], y=data[\"dtv\"])\n",
    "data[\"model_1_pred\"] = model_1.predict(data[[\"num_tracks_total_single\"]])\n",
    "\n",
    "model_2 = LinearRegression()\n",
    "model_2.fit(X=data[[\"num_tracks_weekday_single\"]], y=data[\"dtv_weekdays\"])\n",
    "data[\"model_2_pred\"] = model_2.predict(data[[\"num_tracks_weekday_single\"]])\n",
    "\n",
    "model_3 = LinearRegression()\n",
    "model_3.fit(X=data[[\"num_tracks_weekend_single\"]], y=data[\"dtv_weekend\"])\n",
    "data[\"model_3_pred\"] = model_3.predict(data[[\"num_tracks_weekend_single\"]])\n",
    "\n",
    "model_4 = LinearRegression()\n",
    "model_4.fit(X=data[[\"num_tracks_weekday_single\", \"num_tracks_weekend_single\"]], y=data[\"dtv\"])\n",
    "data[\"model_4_pred\"] = model_4.predict(data[[\"num_tracks_weekday_single\", \"num_tracks_weekend_single\"]])"
   ]
  },
  {
   "cell_type": "code",
   "execution_count": null,
   "metadata": {
    "colab": {
     "base_uri": "https://localhost:8080/",
     "height": 503
    },
    "executionInfo": {
     "elapsed": 26,
     "status": "ok",
     "timestamp": 1641825202577,
     "user": {
      "displayName": "János Sebestyén",
      "photoUrl": "https://lh3.googleusercontent.com/a-/AOh14Ggj_riP2Kn-ezsAAi5r0jnYo1ehRI4SdYkgddxk=s64",
      "userId": "07098745631714455021"
     },
     "user_tz": -60
    },
    "id": "jGX3mSmDzkFF",
    "outputId": "bb783f01-f0bc-40b3-a33d-a2326b7dd222"
   },
   "outputs": [],
   "source": [
    "data"
   ]
  },
  {
   "cell_type": "code",
   "execution_count": null,
   "metadata": {
    "colab": {
     "base_uri": "https://localhost:8080/",
     "height": 560
    },
    "executionInfo": {
     "elapsed": 803,
     "status": "ok",
     "timestamp": 1641825203356,
     "user": {
      "displayName": "János Sebestyén",
      "photoUrl": "https://lh3.googleusercontent.com/a-/AOh14Ggj_riP2Kn-ezsAAi5r0jnYo1ehRI4SdYkgddxk=s64",
      "userId": "07098745631714455021"
     },
     "user_tz": -60
    },
    "id": "5C2gPqzguliV",
    "outputId": "e3b7eee3-1829-425a-eda8-4884e851dd1b"
   },
   "outputs": [],
   "source": [
    "# plot model and data\n",
    "fig, ax = plt.subplots(2, 2, figsize=(15, 8))\n",
    "ax = ax.flatten()\n",
    "fig.suptitle(\"Models using a single street segment\", fontsize=25)\n",
    "\n",
    "# model 1\n",
    "data.plot(x=\"num_tracks_total_single\", y=\"dtv\", ax=ax[0], kind=\"scatter\", color=\"#1f78b4\")\n",
    "data.plot(x=\"num_tracks_total_single\", y=\"model_1_pred\", ax=ax[0], kind=\"line\", color=\"#b2df8a\", title=\"Model 1, r² = %.4f\"%model_1.score(X=data[[\"num_tracks_total_single\"]], y=data[\"dtv\"]))\n",
    "\n",
    "# model 2\n",
    "data.plot(x=\"num_tracks_weekday_single\", y=\"dtv_weekdays\", ax=ax[1], kind=\"scatter\", color=\"#1f78b4\")\n",
    "data.plot(x=\"num_tracks_weekday_single\", y=\"model_2_pred\", ax=ax[1], kind=\"line\", color=\"#b2df8a\", title=\"Model 2, r² = %.4f\"%model_2.score(X=data[[\"num_tracks_weekday_single\"]], y=data[\"dtv_weekdays\"]))\n",
    "\n",
    "# model 3\n",
    "data.plot(x=\"num_tracks_weekend_single\", y=\"dtv_weekend\", ax=ax[2], kind=\"scatter\", color=\"#1f78b4\")\n",
    "data.plot(x=\"num_tracks_weekend_single\", y=\"model_3_pred\", ax=ax[2], kind=\"line\", color=\"#b2df8a\", title=\"Model 3, r² = %.4f\"%model_3.score(X=data[[\"num_tracks_weekend_single\"]], y=data[\"dtv_weekend\"]))\n",
    "\n",
    "# model 4\n",
    "data.plot(x=\"num_tracks_total_single\", y=\"dtv\", ax=ax[3], kind=\"scatter\", color=\"#1f78b4\")\n",
    "data.plot(x=\"num_tracks_total_single\", y=\"model_4_pred\", ax=ax[3], kind=\"line\", color=\"#b2df8a\", title=\"Model 4, r² = %.4f\"%model_4.score(X=data[[\"num_tracks_weekday_single\", \"num_tracks_weekend_single\"]], y=data[\"dtv\"]))\n",
    "\n",
    "plt.tight_layout(pad=3.5)"
   ]
  },
  {
   "cell_type": "markdown",
   "metadata": {
    "id": "y7aWKhcVF5sA"
   },
   "source": [
    "## Multi segments\n",
    "The models we will test are the same as above, just this time we will use our track data that was averaged over all street segments on streets that run through intersections (where the measuring station is located)."
   ]
  },
  {
   "cell_type": "code",
   "execution_count": null,
   "metadata": {
    "colab": {
     "base_uri": "https://localhost:8080/",
     "height": 503
    },
    "executionInfo": {
     "elapsed": 12,
     "status": "ok",
     "timestamp": 1641825203357,
     "user": {
      "displayName": "János Sebestyén",
      "photoUrl": "https://lh3.googleusercontent.com/a-/AOh14Ggj_riP2Kn-ezsAAi5r0jnYo1ehRI4SdYkgddxk=s64",
      "userId": "07098745631714455021"
     },
     "user_tz": -60
    },
    "id": "iO6gSwZUEnWC",
    "outputId": "8e6992c9-e1db-40d3-c24d-e0ba1c825617"
   },
   "outputs": [],
   "source": [
    "# again we need a hard copy because we need to drop stations without num_tracks\n",
    "data_multi = DTV.copy()\n",
    "data_multi = data.dropna(subset=[\"num_tracks_total_multi\"])\n",
    "data_multi"
   ]
  },
  {
   "cell_type": "code",
   "execution_count": null,
   "metadata": {
    "executionInfo": {
     "elapsed": 345,
     "status": "ok",
     "timestamp": 1641825203693,
     "user": {
      "displayName": "János Sebestyén",
      "photoUrl": "https://lh3.googleusercontent.com/a-/AOh14Ggj_riP2Kn-ezsAAi5r0jnYo1ehRI4SdYkgddxk=s64",
      "userId": "07098745631714455021"
     },
     "user_tz": -60
    },
    "id": "A_-UbHgMGb4K"
   },
   "outputs": [],
   "source": [
    "from sklearn.linear_model import LinearRegression\n",
    "# set up four model instances (see description above) and fit to data\n",
    "# we need to give df instead of series, otherwise method will throw error\n",
    "model_5 = LinearRegression()\n",
    "model_5.fit(X=data_multi[[\"num_tracks_total_multi\"]], y=data_multi[\"dtv\"])\n",
    "data_multi[\"model_5_pred\"] = model_5.predict(data_multi[[\"num_tracks_total_multi\"]])\n",
    "\n",
    "model_6 = LinearRegression()\n",
    "model_6.fit(X=data_multi[[\"num_tracks_weekday_multi\"]], y=data_multi[\"dtv_weekdays\"])\n",
    "data_multi[\"model_6_pred\"] = model_6.predict(data_multi[[\"num_tracks_weekday_multi\"]])\n",
    "\n",
    "model_7 = LinearRegression()\n",
    "model_7.fit(X=data_multi[[\"num_tracks_weekend_multi\"]], y=data_multi[\"dtv_weekend\"])\n",
    "data_multi[\"model_7_pred\"] = model_7.predict(data_multi[[\"num_tracks_weekend_multi\"]])\n",
    "\n",
    "model_8 = LinearRegression()\n",
    "model_8.fit(X=data_multi[[\"num_tracks_weekday_multi\", \"num_tracks_weekend_multi\"]], y=data_multi[\"dtv\"])\n",
    "data_multi[\"model_8_pred\"] = model_8.predict(data_multi[[\"num_tracks_weekday_multi\", \"num_tracks_weekend_multi\"]])"
   ]
  },
  {
   "cell_type": "code",
   "execution_count": null,
   "metadata": {
    "colab": {
     "base_uri": "https://localhost:8080/",
     "height": 560
    },
    "executionInfo": {
     "elapsed": 1082,
     "status": "ok",
     "timestamp": 1641825204771,
     "user": {
      "displayName": "János Sebestyén",
      "photoUrl": "https://lh3.googleusercontent.com/a-/AOh14Ggj_riP2Kn-ezsAAi5r0jnYo1ehRI4SdYkgddxk=s64",
      "userId": "07098745631714455021"
     },
     "user_tz": -60
    },
    "id": "B-DtfLvhHfMD",
    "outputId": "a135d09b-eea6-4f24-d166-a5385efd6ebb"
   },
   "outputs": [],
   "source": [
    "# plot model and data\n",
    "fig, ax = plt.subplots(2, 2, figsize=(15, 8))\n",
    "ax = ax.flatten()\n",
    "fig.suptitle(\"Models using all street segments of streets on intersection\", fontsize=25)\n",
    "\n",
    "# model 5\n",
    "data_multi.plot(x=\"num_tracks_total_multi\", y=\"dtv\", ax=ax[0], kind=\"scatter\", color=\"#1f78b4\")\n",
    "data_multi.plot(x=\"num_tracks_total_multi\", y=\"model_5_pred\", ax=ax[0], kind=\"line\", color=\"#b2df8a\", title=\"Model 5, r² = %.4f\"%model_5.score(X=data_multi[[\"num_tracks_total_multi\"]], y=data_multi[\"dtv\"]))\n",
    "\n",
    "# model 6\n",
    "data_multi.plot(x=\"num_tracks_weekday_multi\", y=\"dtv_weekdays\", ax=ax[1], kind=\"scatter\", color=\"#1f78b4\")\n",
    "data_multi.plot(x=\"num_tracks_weekday_multi\", y=\"model_6_pred\", ax=ax[1], kind=\"line\", color=\"#b2df8a\", title=\"Model 6, r² = %.4f\"%model_6.score(X=data_multi[[\"num_tracks_weekday_multi\"]], y=data_multi[\"dtv_weekdays\"]))\n",
    "\n",
    "# model 7\n",
    "data_multi.plot(x=\"num_tracks_weekend_multi\", y=\"dtv_weekend\", ax=ax[2], kind=\"scatter\", color=\"#1f78b4\")\n",
    "data_multi.plot(x=\"num_tracks_weekend_multi\", y=\"model_7_pred\", ax=ax[2], kind=\"line\", color=\"#b2df8a\", title=\"Model 7, r² = %.4f\"%model_7.score(X=data_multi[[\"num_tracks_weekend_multi\"]], y=data_multi[\"dtv_weekend\"]))\n",
    "\n",
    "# model 8\n",
    "data_multi.plot(x=\"num_tracks_total_multi\", y=\"dtv\", ax=ax[3], kind=\"scatter\", color=\"#1f78b4\")\n",
    "data_multi.plot(x=\"num_tracks_total_multi\", y=\"model_8_pred\", ax=ax[3], kind=\"line\", color=\"#b2df8a\", title=\"Model 8, r² = %.4f\"%model_8.score(X=data_multi[[\"num_tracks_weekday_multi\", \"num_tracks_weekend_multi\"]], y=data_multi[\"dtv\"]))\n",
    "\n",
    "plt.tight_layout(pad=3.5)"
   ]
  },
  {
   "cell_type": "markdown",
   "metadata": {
    "id": "AoHs6PEGi-Ko"
   },
   "source": [
    "# APPLY THE MODEL"
   ]
  },
  {
   "cell_type": "markdown",
   "metadata": {
    "id": "fqGPM0SxlgE7"
   },
   "source": [
    "Each street (also those with 0 tracks on them) has a DTV of n after applying the modell. Results will only be plotted for those streets with num_tracks > 0. We will use the best found model for total DTV so far, model 4."
   ]
  },
  {
   "cell_type": "code",
   "execution_count": null,
   "metadata": {
    "colab": {
     "base_uri": "https://localhost:8080/",
     "height": 746
    },
    "executionInfo": {
     "elapsed": 13,
     "status": "ok",
     "timestamp": 1641825204771,
     "user": {
      "displayName": "János Sebestyén",
      "photoUrl": "https://lh3.googleusercontent.com/a-/AOh14Ggj_riP2Kn-ezsAAi5r0jnYo1ehRI4SdYkgddxk=s64",
      "userId": "07098745631714455021"
     },
     "user_tz": -60
    },
    "id": "4cYOOmsRl2O4",
    "outputId": "6954e4bd-30da-405b-a8b5-ee31a38f20d8"
   },
   "outputs": [],
   "source": [
    "# apply model\n",
    "results[\"dtv_est\"]=model_4.predict(results[[\"num_tracks_weekday\", \"num_tracks_weekend\"]])\n",
    "results.head(10)"
   ]
  },
  {
   "cell_type": "code",
   "execution_count": null,
   "metadata": {
    "colab": {
     "base_uri": "https://localhost:8080/",
     "height": 712
    },
    "executionInfo": {
     "elapsed": 2885,
     "status": "ok",
     "timestamp": 1641825313950,
     "user": {
      "displayName": "János Sebestyén",
      "photoUrl": "https://lh3.googleusercontent.com/a-/AOh14Ggj_riP2Kn-ezsAAi5r0jnYo1ehRI4SdYkgddxk=s64",
      "userId": "07098745631714455021"
     },
     "user_tz": -60
    },
    "id": "aK2m4ArfnxmE",
    "outputId": "0d5b78ef-c7b4-44d5-c6eb-fa063a29398f"
   },
   "outputs": [],
   "source": [
    "fig, ax=plt.subplots(1,1,figsize=(10,10))\n",
    "results.plot(ax=ax, column=\"dtv_est\", cmap=\"Reds\", legend=True)\n",
    "cx.add_basemap(ax=ax, crs=results.crs, source=cx.providers.OpenStreetMap.BlackAndWhite)\n",
    "ax.set_title(\"Schätzung des DTV anhand der linearen Regression\", fontsize=15)\n",
    "\n",
    "plt.tight_layout()\n",
    "plt.show()"
   ]
  },
  {
   "cell_type": "markdown",
   "metadata": {
    "id": "KrcSxzSNa9ds"
   },
   "source": [
    "Apply model 1 (alsmost as good, but simpler):"
   ]
  },
  {
   "cell_type": "code",
   "execution_count": null,
   "metadata": {
    "colab": {
     "base_uri": "https://localhost:8080/",
     "height": 792
    },
    "executionInfo": {
     "elapsed": 2194,
     "status": "ok",
     "timestamp": 1641825811150,
     "user": {
      "displayName": "János Sebestyén",
      "photoUrl": "https://lh3.googleusercontent.com/a-/AOh14Ggj_riP2Kn-ezsAAi5r0jnYo1ehRI4SdYkgddxk=s64",
      "userId": "07098745631714455021"
     },
     "user_tz": -60
    },
    "id": "mfnGksk4a8g4",
    "outputId": "779c41e6-b4d7-4dd2-cce3-5e243190a5ed"
   },
   "outputs": [],
   "source": [
    "# Apply model 1 (almost as good, but simpler):\n",
    "results[\"dtv_est\"]=model_4.predict(results[[\"num_tracks_weekday\", \"num_tracks_weekend\"]])\n",
    "results.head(10)\n",
    "\n",
    "# PLot results:\n",
    "fig, ax = plt.subplots(1, 1, figsize=(30, 10))\n",
    "\n",
    "DTV.plot(ax=ax, color=\"#1f78b4\")\n",
    "cx.add_basemap(ax=ax, crs= DTV.crs, source=cx.providers.Stamen.TonerLite)\n",
    "results.plot(ax=ax, alpha=0.5, column=\"dtv_est\", cmap=\"Reds\", vmax = 40000, legend=True, linewidth=5)\n",
    "DTV.plot(ax=ax, color=\"#1f78b4\")"
   ]
  }
 ],
 "metadata": {
  "colab": {
   "collapsed_sections": [],
   "name": "muenster_DTV_modelling.ipynb",
   "provenance": [
    {
     "file_id": "1kcE04XbDqDzrQ1s16W4QWjF9XF1uNBbx",
     "timestamp": 1640265239487
    },
    {
     "file_id": "1GeGTwMoOLVUgHjaO2cisFkhNyVYoH2MS",
     "timestamp": 1638463517998
    }
   ],
   "toc_visible": true
  },
  "kernelspec": {
   "display_name": "Python 3 (ipykernel)",
   "language": "python",
   "name": "python3"
  },
  "language_info": {
   "codemirror_mode": {
    "name": "ipython",
    "version": 3
   },
   "file_extension": ".py",
   "mimetype": "text/x-python",
   "name": "python",
   "nbconvert_exporter": "python",
   "pygments_lexer": "ipython3",
   "version": "3.9.12"
  }
 },
 "nbformat": 4,
 "nbformat_minor": 1
}
