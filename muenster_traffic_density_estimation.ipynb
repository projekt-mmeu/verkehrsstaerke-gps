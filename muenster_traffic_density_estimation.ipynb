{
 "cells": [
  {
   "cell_type": "markdown",
   "metadata": {
    "id": "V_z2nFHypB0B"
   },
   "source": [
    "In this file we will use the Envirocar data to estimate the traffic density, leading to a kind of heatmap. A naive way to approach this problem is to take our EnviroCar points and check for each of them in which street segment of OSM they lie. There should be no unmatched points except those on high-speed streets or leading outside the bounding box. After that we can sum up the unique track IDs per segment, which will represent our density function. This approach is (probably) naive because of runtime, so any approach that reduces point load should be undertaken. That could be\n",
    "\n",
    "\n",
    "\n",
    "*   filter points based on speed\n",
    "*   filter points based on bounding box\n",
    "*   discretize EnviroCar data (measuring interval)\n",
    "\n",
    "\n"
   ]
  },
  {
   "cell_type": "markdown",
   "metadata": {
    "id": "0qnv-EDfp2eG"
   },
   "source": [
    "# LOAD DATA\n",
    "For better accessibility all data is saved as shape files (run EnviroCar_get_data if data is missing). For our traffic density analysis we need to match the envirocar data to some background map to perform aggregation on. This will be data downloaded from OSM. A metadata description can be found [here](http://download.geofabrik.de/osm-data-in-gis-formats-free.pdf). We only need the shapefile containing roads and paths."
   ]
  },
  {
   "cell_type": "code",
   "execution_count": null,
   "metadata": {
    "id": "ULcaZwZpp5iJ"
   },
   "outputs": [],
   "source": [
    "import geopandas as gpd\n",
    "import matplotlib.pyplot as plt\n",
    "import contextily as cx\n",
    "import pandas as pd\n",
    "import numpy as np\n",
    "from mpl_toolkits.axes_grid1 import make_axes_locatable\n",
    "from shapely.geometry import Polygon, Point\n",
    "import os\n",
    "import rtree"
   ]
  },
  {
   "cell_type": "code",
   "execution_count": null,
   "metadata": {},
   "outputs": [],
   "source": [
    "filepath = os.path.join(os.getcwd(), \"data\")"
   ]
  },
  {
   "cell_type": "code",
   "execution_count": null,
   "metadata": {
    "colab": {
     "base_uri": "https://localhost:8080/"
    },
    "executionInfo": {
     "elapsed": 3540,
     "status": "ok",
     "timestamp": 1640627288463,
     "user": {
      "displayName": "Christina Vergara Ossenberg",
      "photoUrl": "https://lh3.googleusercontent.com/a/default-user=s64",
      "userId": "02650763533864884671"
     },
     "user_tz": -60
    },
    "id": "yWCHhLqgq71l",
    "outputId": "e21cd514-4afa-448b-93a3-15a19e56bed0"
   },
   "outputs": [],
   "source": [
    "# while loading the road data (OSM) we can define a bbox -> other data won't be loaded\n",
    "bbox_osm = (7.55, # min_x\n",
    "            51.875, # min_y\n",
    "            7.7200, # max_x \n",
    "            52.025)  # max_y\n",
    "\n",
    "roads = gpd.read_file(os.path.join(filepath, \"OSM_muenster\", \"roads.shp\"), bbox=bbox_osm)\n",
    "\n",
    "# should work outside of Colab (but needs to be checked)\n",
    "#roads = gpd.read_file(\"data/OSM_muenster/roads.shp\", bbox=bbox_osm)\n",
    "\n",
    "# check dimensions for better data feel\n",
    "roads.shape"
   ]
  },
  {
   "cell_type": "code",
   "execution_count": null,
   "metadata": {
    "id": "Bmtyetae_y7S"
   },
   "outputs": [],
   "source": [
    "# to group road segments later, we need a unique id, for now this will just a consecutive number\n",
    "roads[\"ID\"] = [x for x in range(roads.shape[0])]"
   ]
  },
  {
   "cell_type": "code",
   "execution_count": null,
   "metadata": {
    "colab": {
     "base_uri": "https://localhost:8080/"
    },
    "executionInfo": {
     "elapsed": 123705,
     "status": "ok",
     "timestamp": 1640627412138,
     "user": {
      "displayName": "Christina Vergara Ossenberg",
      "photoUrl": "https://lh3.googleusercontent.com/a/default-user=s64",
      "userId": "02650763533864884671"
     },
     "user_tz": -60
    },
    "id": "afgOdzqlrcdO",
    "outputId": "bfc65896-c0d3-477f-b8da-f2826590807e"
   },
   "outputs": [],
   "source": [
    "# track data can be read using the same bbox\n",
    "\n",
    "# large dataset (may take some time)\n",
    "tracks = gpd.read_file(os.path.join(filepath, \"envirocar_muenster\", \"envirocar_muenster_2000.shp\"), bbox=bbox_osm)\n",
    "\n",
    "# check dimensions for better data feel\n",
    "tracks.shape"
   ]
  },
  {
   "cell_type": "code",
   "execution_count": null,
   "metadata": {},
   "outputs": [],
   "source": [
    "tracks.set_crs(\"EPSG:4326\", inplace = True)"
   ]
  },
  {
   "cell_type": "code",
   "execution_count": null,
   "metadata": {
    "colab": {
     "base_uri": "https://localhost:8080/",
     "height": 418
    },
    "executionInfo": {
     "elapsed": 48379,
     "status": "ok",
     "timestamp": 1640627460510,
     "user": {
      "displayName": "Christina Vergara Ossenberg",
      "photoUrl": "https://lh3.googleusercontent.com/a/default-user=s64",
      "userId": "02650763533864884671"
     },
     "user_tz": -60
    },
    "id": "n3aY4B0Rr2oB",
    "outputId": "0cbbc5e9-0797-443d-ea78-822ddc0f2dd9"
   },
   "outputs": [],
   "source": [
    "# plot both to verify correct loading\n",
    "# first prepare 1x2 canvas\n",
    "fig, ax = plt.subplots(1, 2, figsize=(15, 20))\n",
    "\n",
    "roads.plot(ax=ax[0])\n",
    "cx.add_basemap(ax=ax[0], crs=roads.crs.to_string())\n",
    "ax[0].set_title(\"OSM data\")\n",
    "\n",
    "tracks.plot(ax=ax[1])\n",
    "cx.add_basemap(ax=ax[1], crs=tracks.crs.to_string())\n",
    "ax[1].set_title(\"EnviroCar data\")"
   ]
  },
  {
   "cell_type": "markdown",
   "metadata": {
    "id": "06btFHOhur-X"
   },
   "source": [
    "# FILTER DATA\n",
    "We have already filtered both datasets according to our bounding box. We need to filter the OSM data to include only \"Innenstadtverkehr\". This can be achieved using the \"fclass\" feature. We will only include \"primary\", \"secondary\", \"tertiary\", \"unclassified\", \"residential\" and \"living_street\".\n",
    "\n",
    "We will filter the EnviroCar data to include only measurements with less than 65 km/h. This way we want also want to eliminate any data that is not \"Innenstadtverkehr\". Also we regard only tracks within the city borders of Münster."
   ]
  },
  {
   "cell_type": "code",
   "execution_count": null,
   "metadata": {
    "colab": {
     "base_uri": "https://localhost:8080/"
    },
    "executionInfo": {
     "elapsed": 40,
     "status": "ok",
     "timestamp": 1640627460512,
     "user": {
      "displayName": "Christina Vergara Ossenberg",
      "photoUrl": "https://lh3.googleusercontent.com/a/default-user=s64",
      "userId": "02650763533864884671"
     },
     "user_tz": -60
    },
    "id": "OuZDA164vFIl",
    "outputId": "6799da56-6b02-4d45-96fe-9976eaae5ba9"
   },
   "outputs": [],
   "source": [
    "# filter OSM road data\n",
    "roads_filtered = roads[roads[\"type\"].isin([\"primary\", \"secondary\", \"tertiary\", \"unclassified\", \"residential\", \"living_street\"])]\n",
    "roads_filtered.shape"
   ]
  },
  {
   "cell_type": "code",
   "execution_count": null,
   "metadata": {
    "colab": {
     "base_uri": "https://localhost:8080/"
    },
    "executionInfo": {
     "elapsed": 199363,
     "status": "ok",
     "timestamp": 1640627659842,
     "user": {
      "displayName": "Christina Vergara Ossenberg",
      "photoUrl": "https://lh3.googleusercontent.com/a/default-user=s64",
      "userId": "02650763533864884671"
     },
     "user_tz": -60
    },
    "id": "T553fSTeuWOd",
    "outputId": "18aa0031-c204-4adf-e2bf-ccbfb9c0c1f0"
   },
   "outputs": [],
   "source": [
    "# filter EnviroCar data\n",
    "\n",
    "#Take only tracks inside the city borders of Münster\n",
    "muenster=gpd.read_file(os.path.join(filepath, \"stadtgebiet_muenster\", \"stadtgebiet.shp\"))\n",
    "\n",
    "muenster=muenster.to_crs(4326) # Adjust the coordinate reference system\n",
    "\n",
    "tracks_filtered=tracks.within(muenster[\"geometry\"][0]) # Geopandas within function checks if points are in polygon\n",
    "\n",
    "#Take only tracks with speed value lower than 65 km/h\n",
    "tracks_filtered = tracks[tracks[\"Speed.valu\"] < 65]\n",
    "tracks_filtered.shape"
   ]
  },
  {
   "cell_type": "markdown",
   "metadata": {
    "id": "t68K34abwoSN"
   },
   "source": [
    "We have lost quite a lot of road segments, not that many Envirocar data points. Another odd thing though are a couple of straight lines in the track data, so we will filter those as well using a Polygon."
   ]
  },
  {
   "cell_type": "code",
   "execution_count": null,
   "metadata": {
    "id": "EIybECuUSmsg"
   },
   "outputs": [],
   "source": [
    "# polygon coordinates will be in EPSG 3857\n",
    "roads_filtered = roads_filtered.to_crs(epsg=3857)"
   ]
  },
  {
   "cell_type": "code",
   "execution_count": null,
   "metadata": {
    "id": "8J-BIL_l3H8X"
   },
   "outputs": [],
   "source": [
    "# There are some weird roads in the data, we can exclude them by checking for intersection with suitable polygons\n",
    "polygon=Polygon(((825000,6.78e6), (825000,6.785e6), (830000,6.785e6),(830000,6.78e6)))\n",
    "polygon2=Polygon(((848950,6.7908e6),(848950,6.7910e6),(849000,6.7910e6), (849000,6.7908e6))) # Some more weird roads that remained\n",
    "roads_filtered = roads_filtered.loc[roads_filtered[\"geometry\"].intersects(polygon)==False]\n",
    "roads_filtered = roads_filtered.loc[roads_filtered[\"geometry\"].intersects(polygon2)==False]"
   ]
  },
  {
   "cell_type": "code",
   "execution_count": null,
   "metadata": {
    "colab": {
     "base_uri": "https://localhost:8080/"
    },
    "executionInfo": {
     "elapsed": 1003,
     "status": "ok",
     "timestamp": 1640627661479,
     "user": {
      "displayName": "Christina Vergara Ossenberg",
      "photoUrl": "https://lh3.googleusercontent.com/a/default-user=s64",
      "userId": "02650763533864884671"
     },
     "user_tz": -60
    },
    "id": "AMYlmLkWOjW5",
    "outputId": "a3f36e13-1ecd-43ff-a479-5a051455df8e"
   },
   "outputs": [],
   "source": [
    "# fix data type of temporal data for better handling\n",
    "tracks_filtered[\"time\"] = pd.to_datetime(tracks_filtered[\"time\"])"
   ]
  },
  {
   "cell_type": "code",
   "execution_count": null,
   "metadata": {
    "id": "rMTw-ik26dGn"
   },
   "outputs": [],
   "source": [
    "# filter data to only include tracks from 2018 (because verification data from Münster is also from 2018)\n",
    "tracks_filtered = tracks_filtered[tracks_filtered[\"time\"].dt.year == 2018]"
   ]
  },
  {
   "cell_type": "markdown",
   "metadata": {
    "id": "9Gs2jIg3N4he"
   },
   "source": [
    "# AMENDING DATA\n",
    "For aggregating the data later on in the way we desire, we need to introduce a temporal feature (i.e. track on weekday or on weekend?)."
   ]
  },
  {
   "cell_type": "code",
   "execution_count": null,
   "metadata": {
    "colab": {
     "base_uri": "https://localhost:8080/",
     "height": 678
    },
    "executionInfo": {
     "elapsed": 690,
     "status": "ok",
     "timestamp": 1640627662149,
     "user": {
      "displayName": "Christina Vergara Ossenberg",
      "photoUrl": "https://lh3.googleusercontent.com/a/default-user=s64",
      "userId": "02650763533864884671"
     },
     "user_tz": -60
    },
    "id": "F6HaGocVgEMT",
    "outputId": "0c559836-1a69-41eb-e396-3593eaa42e0d"
   },
   "outputs": [],
   "source": [
    "# now introduce new weekday feature\n",
    "tracks_filtered[\"weekday\"] = tracks_filtered[\"time\"].dt.dayofweek\n",
    "\n",
    "# 0-4 are weekdays, 5 & 6 are saturday and sunday\n",
    "tracks_filtered[\"weekday\"] = tracks_filtered[\"weekday\"] < 5\n",
    "tracks_filtered.head()"
   ]
  },
  {
   "cell_type": "markdown",
   "metadata": {
    "id": "6LEvCw_ew_YZ"
   },
   "source": [
    "# BUFFERING\n",
    "We will now for each street in roads_filtered collect and count the points of our EnviroCar data with unique track ID. For that we will first need a buffer around streets because of GPS and measuring inaccuracy. Our current map is in degrees (WGS 84 / EPSG:4326). If we want to add a buffer of 10 meters, we have to convert it to a projection in meters because the geopanda library cannot handle different units. One such a projection is WGS 84 / EPSG: 3857 which is also already used by contextily background maps (see [here](https://epsg.io/3857)).\n",
    "\n",
    "We will also use cap_style = 2 for our buffer (see [here](https://geopandas.org/en/stable/docs/reference/api/geopandas.GeoSeries.buffer.html)) to avoid counting traffic multiple times on intersections."
   ]
  },
  {
   "cell_type": "code",
   "execution_count": null,
   "metadata": {
    "id": "uV6FPfDczWni"
   },
   "outputs": [],
   "source": [
    "# convert our data\n",
    "tracks_filtered = tracks_filtered.to_crs(epsg=3857)\n",
    "roads_filtered = roads_filtered.to_crs(epsg=3857)\n",
    "muenster= muenster.to_crs(3857)"
   ]
  },
  {
   "cell_type": "code",
   "execution_count": null,
   "metadata": {
    "colab": {
     "base_uri": "https://localhost:8080/",
     "height": 206
    },
    "executionInfo": {
     "elapsed": 397,
     "status": "ok",
     "timestamp": 1640627666356,
     "user": {
      "displayName": "Christina Vergara Ossenberg",
      "photoUrl": "https://lh3.googleusercontent.com/a/default-user=s64",
      "userId": "02650763533864884671"
     },
     "user_tz": -60
    },
    "id": "UDxTrGYWzs2l",
    "outputId": "feab683b-591c-4e40-ecc4-35dc74310bbe"
   },
   "outputs": [],
   "source": [
    "# now add the buffer of 10 meters\n",
    "# we will create a new object because one df cannot have two geometry columns and further processing may be bound to that name\n",
    "roads_buffered = roads_filtered.copy(deep=True)\n",
    "roads_buffered[\"geometry\"] = roads_buffered[\"geometry\"].buffer(distance=10, cap_style=2)\n",
    "roads_buffered.head()"
   ]
  },
  {
   "cell_type": "code",
   "execution_count": null,
   "metadata": {
    "id": "66mHkOSpWV1s"
   },
   "outputs": [],
   "source": [
    "# to plot change everything back to 4326\n",
    "tracks_filtered = tracks_filtered.to_crs(epsg=4326)\n",
    "roads_filtered = roads_filtered.to_crs(epsg=4326)\n",
    "muenster= muenster.to_crs(4326)\n",
    "roads_buffered = roads_buffered.to_crs(epsg=4326)"
   ]
  },
  {
   "cell_type": "code",
   "execution_count": null,
   "metadata": {
    "colab": {
     "base_uri": "https://localhost:8080/",
     "height": 331
    },
    "executionInfo": {
     "elapsed": 4127,
     "status": "ok",
     "timestamp": 1640627675497,
     "user": {
      "displayName": "Christina Vergara Ossenberg",
      "photoUrl": "https://lh3.googleusercontent.com/a/default-user=s64",
      "userId": "02650763533864884671"
     },
     "user_tz": -60
    },
    "id": "MH9kc70l0EVs",
    "outputId": "e50cc91e-f439-4595-81b5-af6d44259daf"
   },
   "outputs": [],
   "source": [
    "# print to see difference (using zoom)\n",
    "fig, ax = plt.subplots(1, 2, figsize=(10, 20))\n",
    "\n",
    "# roads without buffers\n",
    "roads_filtered[\"geometry\"].plot(ax=ax[0])\n",
    "ax[0].set_title(\"OSM data without buffer\")\n",
    "ax[0].set_xlim(7.6062, 7.6148)\n",
    "ax[0].set_ylim(51.9636, 51.9688)\n",
    "\n",
    "roads_buffered[\"geometry\"].plot(ax=ax[1])\n",
    "ax[1].set_title(\"OSM data with buffer\")\n",
    "ax[1].set_xlim(7.6062, 7.6148)\n",
    "ax[1].set_ylim(51.9636, 51.9688)"
   ]
  },
  {
   "cell_type": "markdown",
   "metadata": {
    "id": "Nb5wzXu02sWU"
   },
   "source": [
    "Buffering has worked as expected."
   ]
  },
  {
   "cell_type": "code",
   "execution_count": null,
   "metadata": {
    "id": "foguIOK7ddya"
   },
   "outputs": [],
   "source": [
    "# change back to 3857 to work with the rest of the script\n",
    "tracks_filtered = tracks_filtered.to_crs(epsg=3857)\n",
    "roads_filtered = roads_filtered.to_crs(epsg=3857)\n",
    "muenster= muenster.to_crs(3857)\n",
    "roads_buffered = roads_buffered.to_crs(epsg=3857)"
   ]
  },
  {
   "cell_type": "markdown",
   "metadata": {
    "id": "VYzDcpRj2xzB"
   },
   "source": [
    "# AGGREGATE\n",
    "Now that we have our buffers, we can look for intersections between our points and the buffered streets. As points are small, intersects or within/contains should not make a difference, but just to be sure we will use intersect. An efficient way to loop over the dataframe will be to perform a spatial join, which can easily be done using geopandas."
   ]
  },
  {
   "cell_type": "code",
   "execution_count": null,
   "metadata": {
    "colab": {
     "base_uri": "https://localhost:8080/",
     "height": 664
    },
    "executionInfo": {
     "elapsed": 12714,
     "status": "ok",
     "timestamp": 1640627692983,
     "user": {
      "displayName": "Christina Vergara Ossenberg",
      "photoUrl": "https://lh3.googleusercontent.com/a/default-user=s64",
      "userId": "02650763533864884671"
     },
     "user_tz": -60
    },
    "id": "LZSUATOT27Oi",
    "outputId": "f3088e95-748b-4a11-aa73-2731b7aaeb6a"
   },
   "outputs": [],
   "source": [
    "# to keep all the roads data, we will perform right outer join -> all points should be matched (at least) once though\n",
    "intersections = gpd.sjoin(tracks_filtered, roads_buffered, how='right')\n",
    "intersections.head()"
   ]
  },
  {
   "cell_type": "markdown",
   "metadata": {
    "id": "E0PdbDM4_SEb"
   },
   "source": [
    "We will now group by streets segment and then coun the unique track IDs for each segment. We can make our traffic density estimation more precise by separating weekdays and weekends."
   ]
  },
  {
   "cell_type": "code",
   "execution_count": null,
   "metadata": {
    "colab": {
     "base_uri": "https://localhost:8080/"
    },
    "executionInfo": {
     "elapsed": 114,
     "status": "ok",
     "timestamp": 1640627695375,
     "user": {
      "displayName": "Christina Vergara Ossenberg",
      "photoUrl": "https://lh3.googleusercontent.com/a/default-user=s64",
      "userId": "02650763533864884671"
     },
     "user_tz": -60
    },
    "id": "i8sCvKS3h5oT",
    "outputId": "bda388f8-6693-47a1-c51f-6a5889e1df8f"
   },
   "outputs": [],
   "source": [
    "# the unique key of each segment is the ID we have given in the beginning, so we can use this for grouping (and separate by weekday / weekend)\n",
    "# then we look for unique track IDs and count them per group (rename for convenience)\n",
    "num_tracks = intersections.groupby([\"ID\", \"weekday\"])[\"track.id\"].nunique().rename(\"num_tracks\")\n",
    "num_tracks.head()"
   ]
  },
  {
   "cell_type": "code",
   "execution_count": null,
   "metadata": {
    "colab": {
     "base_uri": "https://localhost:8080/",
     "height": 486
    },
    "executionInfo": {
     "elapsed": 101,
     "status": "ok",
     "timestamp": 1640627695379,
     "user": {
      "displayName": "Christina Vergara Ossenberg",
      "photoUrl": "https://lh3.googleusercontent.com/a/default-user=s64",
      "userId": "02650763533864884671"
     },
     "user_tz": -60
    },
    "id": "ynVX5LlliRuE",
    "outputId": "4d4e0bf6-d551-4ccc-d12e-f4d139795ad7"
   },
   "outputs": [],
   "source": [
    "# now we need to pivot this df, so that we have the ID as index and then two columns with the number of tracks, one \"num_tracks_weekday\" and one \"num_tracks_weekend\"\n",
    "\n",
    "# first convert series to DF\n",
    "num_tracks = num_tracks.to_frame()\n",
    "\n",
    "# now unstack\n",
    "num_tracks = num_tracks.unstack()\n",
    "num_tracks"
   ]
  },
  {
   "cell_type": "code",
   "execution_count": null,
   "metadata": {
    "colab": {
     "base_uri": "https://localhost:8080/",
     "height": 238
    },
    "executionInfo": {
     "elapsed": 97,
     "status": "ok",
     "timestamp": 1640627695381,
     "user": {
      "displayName": "Christina Vergara Ossenberg",
      "photoUrl": "https://lh3.googleusercontent.com/a/default-user=s64",
      "userId": "02650763533864884671"
     },
     "user_tz": -60
    },
    "id": "WA-CC-bMjWe1",
    "outputId": "6769516e-1ec3-4f61-9231-78ca958d8df8"
   },
   "outputs": [],
   "source": [
    "# now rename columns and fill missing values with 0\n",
    "num_tracks.columns = [\"num_tracks_weekend\", \"num_tracks_weekday\"]\n",
    "num_tracks = num_tracks.fillna(0)\n",
    "num_tracks.head()"
   ]
  },
  {
   "cell_type": "code",
   "execution_count": null,
   "metadata": {
    "id": "rj_xWIdjGTtR"
   },
   "outputs": [],
   "source": [
    "# we can now join back our counts to the OSM road data (using id)\n",
    "results = roads_filtered.join(num_tracks, on=\"ID\", how=\"left\")"
   ]
  },
  {
   "cell_type": "code",
   "execution_count": null,
   "metadata": {
    "colab": {
     "base_uri": "https://localhost:8080/",
     "height": 337
    },
    "executionInfo": {
     "elapsed": 388,
     "status": "ok",
     "timestamp": 1640627695694,
     "user": {
      "displayName": "Christina Vergara Ossenberg",
      "photoUrl": "https://lh3.googleusercontent.com/a/default-user=s64",
      "userId": "02650763533864884671"
     },
     "user_tz": -60
    },
    "id": "oW0JqvQcG9g2",
    "outputId": "2b1463b9-5732-4ad1-d3c7-759931ac5231"
   },
   "outputs": [],
   "source": [
    "results.head()"
   ]
  },
  {
   "cell_type": "code",
   "execution_count": null,
   "metadata": {
    "colab": {
     "base_uri": "https://localhost:8080/",
     "height": 300
    },
    "executionInfo": {
     "elapsed": 56,
     "status": "ok",
     "timestamp": 1640627695700,
     "user": {
      "displayName": "Christina Vergara Ossenberg",
      "photoUrl": "https://lh3.googleusercontent.com/a/default-user=s64",
      "userId": "02650763533864884671"
     },
     "user_tz": -60
    },
    "id": "pSP7s_XJdqVK",
    "outputId": "308a54d7-e42e-4ae1-d139-560caa8faa4b"
   },
   "outputs": [],
   "source": [
    "results.describe()"
   ]
  },
  {
   "cell_type": "code",
   "execution_count": null,
   "metadata": {
    "colab": {
     "base_uri": "https://localhost:8080/",
     "height": 337
    },
    "executionInfo": {
     "elapsed": 57,
     "status": "ok",
     "timestamp": 1640627695703,
     "user": {
      "displayName": "Christina Vergara Ossenberg",
      "photoUrl": "https://lh3.googleusercontent.com/a/default-user=s64",
      "userId": "02650763533864884671"
     },
     "user_tz": -60
    },
    "id": "gPDNUBzzkxB2",
    "outputId": "e6ef4b43-4815-4370-e4c8-def37cc8fa0c"
   },
   "outputs": [],
   "source": [
    "# we can see from stats above, that not all streets have been matched to tracks -> we need to fill those with 0s\n",
    "results[[\"num_tracks_weekend\", \"num_tracks_weekday\"]] = results[[\"num_tracks_weekend\", \"num_tracks_weekday\"]].fillna(0)\n",
    "results.head()"
   ]
  },
  {
   "cell_type": "code",
   "execution_count": null,
   "metadata": {
    "colab": {
     "base_uri": "https://localhost:8080/",
     "height": 300
    },
    "executionInfo": {
     "elapsed": 56,
     "status": "ok",
     "timestamp": 1640627695704,
     "user": {
      "displayName": "Christina Vergara Ossenberg",
      "photoUrl": "https://lh3.googleusercontent.com/a/default-user=s64",
      "userId": "02650763533864884671"
     },
     "user_tz": -60
    },
    "id": "zL9Wg5mEmTNS",
    "outputId": "504bed35-d238-42cc-c62d-1e8a70e36188"
   },
   "outputs": [],
   "source": [
    "results.describe()"
   ]
  },
  {
   "cell_type": "code",
   "execution_count": null,
   "metadata": {
    "colab": {
     "base_uri": "https://localhost:8080/",
     "height": 530
    },
    "executionInfo": {
     "elapsed": 60,
     "status": "ok",
     "timestamp": 1640627695709,
     "user": {
      "displayName": "Christina Vergara Ossenberg",
      "photoUrl": "https://lh3.googleusercontent.com/a/default-user=s64",
      "userId": "02650763533864884671"
     },
     "user_tz": -60
    },
    "id": "ZrqO95nzj0L8",
    "outputId": "c04324e4-961b-467f-971c-0394222dd157"
   },
   "outputs": [],
   "source": [
    "# finally we can calculate the total track count from weekend and weekday counts\n",
    "results[\"num_tracks_total\"] = results[\"num_tracks_weekend\"] + results[\"num_tracks_weekday\"]\n",
    "results.head()"
   ]
  },
  {
   "cell_type": "code",
   "execution_count": null,
   "metadata": {
    "colab": {
     "base_uri": "https://localhost:8080/"
    },
    "executionInfo": {
     "elapsed": 5223,
     "status": "ok",
     "timestamp": 1640627731339,
     "user": {
      "displayName": "Christina Vergara Ossenberg",
      "photoUrl": "https://lh3.googleusercontent.com/a/default-user=s64",
      "userId": "02650763533864884671"
     },
     "user_tz": -60
    },
    "id": "nhAg9CoQY4NB",
    "outputId": "4ccb693e-816f-4656-e63a-f2b47efb3629"
   },
   "outputs": [],
   "source": [
    "# save results\n",
    "results.to_file(os.path.join(filepath, \"results\", \"muenster_2018_est_traffic_density.shp\"))"
   ]
  },
  {
   "cell_type": "markdown",
   "metadata": {
    "id": "hVnIv2q5yIyf"
   },
   "source": [
    "# PLOTTING RESULTS"
   ]
  },
  {
   "cell_type": "code",
   "execution_count": null,
   "metadata": {
    "id": "nVJgVJxlgKY0"
   },
   "outputs": [],
   "source": [
    "# to see more clearly, exclude streets with no tracks on them\n",
    "results=results.loc[results[\"num_tracks_total\"] > 0]"
   ]
  },
  {
   "cell_type": "markdown",
   "metadata": {
    "id": "fHNPEYvZHtdx"
   },
   "source": [
    "## Total amount of tracks\n",
    "We have now the number of tracks per road segment. We will try to color-code this metric and plot it on a map for analysis. We will start using only the total amount of tracks."
   ]
  },
  {
   "cell_type": "code",
   "execution_count": null,
   "metadata": {
    "colab": {
     "base_uri": "https://localhost:8080/",
     "height": 614
    },
    "executionInfo": {
     "elapsed": 14095,
     "status": "ok",
     "timestamp": 1640626076631,
     "user": {
      "displayName": "Christina Vergara Ossenberg",
      "photoUrl": "https://lh3.googleusercontent.com/a/default-user=s64",
      "userId": "02650763533864884671"
     },
     "user_tz": -60
    },
    "id": "ndSHQRsZH_A1",
    "outputId": "1fa4cc3d-2695-43ef-86af-b88cf7cb104a"
   },
   "outputs": [],
   "source": [
    "# we can specify column to be used for coloring -> in our case num_tracks\n",
    "# we can also apply a colormap to color roads depending on value (important to choose sequential one because num_tracks is sequential)\n",
    "# background map will be black and white for easier visibility of roads\n",
    "\n",
    "# prepare canvas for plots and colorbar\n",
    "fig, ax = plt.subplots(1, 2, figsize=(15, 20))\n",
    "divider = make_axes_locatable(ax[1])\n",
    "cax = divider.append_axes(\"right\", size=\"5%\", pad=0.1)\n",
    "\n",
    "# first plot only track data points\n",
    "tracks_filtered.plot(ax=ax[0], color=\"#08519c\")\n",
    "#cx.add_basemap(ax=ax[0], crs=tracks_filtered.crs.to_string(), source=cx.providers.OpenStreetMap.BlackAndWhite)\n",
    "ax[0].set_title(\"EnviroCar track data\")\n",
    "\n",
    "# Plot city borders\n",
    "muenster['geometry'].plot(ax=ax[0], facecolor=\"none\",edgecolor=\"black\")\n",
    "\n",
    "# now plot number of tracks per segment\n",
    "results.plot(ax=ax[1], column=\"num_tracks_total\", cmap=\"Blues\", legend=True, cax=cax)\n",
    "#cx.add_basemap(ax=ax[1], crs=results.crs.to_string(), source=cx.providers.OpenStreetMap.BlackAndWhite)\n",
    "ax[1].set_title(\"Traffic density estimation using \\n aggregated EnviroCar track data\")\n",
    "\n",
    "plt.tight_layout()"
   ]
  },
  {
   "cell_type": "markdown",
   "metadata": {
    "id": "mBYsGF4qNJv_"
   },
   "source": [
    "We can see that the maximum amount of tracks (~70) dominates the colorbar. These may be outliers though."
   ]
  },
  {
   "cell_type": "code",
   "execution_count": null,
   "metadata": {
    "colab": {
     "base_uri": "https://localhost:8080/"
    },
    "executionInfo": {
     "elapsed": 74,
     "status": "ok",
     "timestamp": 1640626076633,
     "user": {
      "displayName": "Christina Vergara Ossenberg",
      "photoUrl": "https://lh3.googleusercontent.com/a/default-user=s64",
      "userId": "02650763533864884671"
     },
     "user_tz": -60
    },
    "id": "DOSlORiZElZ3",
    "outputId": "d9ee766a-64ed-44bc-deb3-b0798a57bd46"
   },
   "outputs": [],
   "source": [
    "# check dsitribution of num_tracks\n",
    "results[\"num_tracks_total\"].describe()"
   ]
  },
  {
   "cell_type": "code",
   "execution_count": null,
   "metadata": {
    "colab": {
     "base_uri": "https://localhost:8080/",
     "height": 229
    },
    "executionInfo": {
     "elapsed": 516,
     "status": "ok",
     "timestamp": 1640626077107,
     "user": {
      "displayName": "Christina Vergara Ossenberg",
      "photoUrl": "https://lh3.googleusercontent.com/a/default-user=s64",
      "userId": "02650763533864884671"
     },
     "user_tz": -60
    },
    "id": "bnviUfqNEx1G",
    "outputId": "0cb5ba53-4a32-44aa-bb2b-730c5271a043"
   },
   "outputs": [],
   "source": [
    "# plot distribution\n",
    "results[\"num_tracks_total\"].plot.box(vert=False, figsize=(8, 3))"
   ]
  },
  {
   "cell_type": "markdown",
   "metadata": {
    "id": "E1TTuKEJGMp2"
   },
   "source": [
    "We can see that we have a couple of (extreme) outliers, as most of num_track entries are below 10. We can give the plotting function a maximum value for our colormap, let's take 20 (because that's about where the top whisker ends). Another thing that we can try is to discretize our values into bins. Either a fixed amount of bins with the same number of entries (pd.cut; bin length will vary) or a fixed amount of bins of the same length (pd.qcut; number of bin entries will vary). Let's try both to see what works best. We will use 5 bins."
   ]
  },
  {
   "cell_type": "code",
   "execution_count": null,
   "metadata": {
    "id": "rIDDc9JCPRQO"
   },
   "outputs": [],
   "source": [
    "# first bins with bins of the same width\n",
    "bins_equal_width = pd.cut(results[\"num_tracks_total\"], bins=5)\n",
    "\n",
    "# then bin with bins containing the same amount of entries\n",
    "bins_equal_entries = pd.qcut(results[\"num_tracks_total\"], q=5, duplicates=\"drop\")"
   ]
  },
  {
   "cell_type": "code",
   "execution_count": null,
   "metadata": {
    "colab": {
     "base_uri": "https://localhost:8080/"
    },
    "executionInfo": {
     "elapsed": 88,
     "status": "ok",
     "timestamp": 1640626077109,
     "user": {
      "displayName": "Christina Vergara Ossenberg",
      "photoUrl": "https://lh3.googleusercontent.com/a/default-user=s64",
      "userId": "02650763533864884671"
     },
     "user_tz": -60
    },
    "id": "gv6BMahPPnnJ",
    "outputId": "36f30250-223b-49aa-cf53-c9fe1cca04f8"
   },
   "outputs": [],
   "source": [
    "bins_equal_width"
   ]
  },
  {
   "cell_type": "code",
   "execution_count": null,
   "metadata": {
    "colab": {
     "base_uri": "https://localhost:8080/"
    },
    "executionInfo": {
     "elapsed": 71,
     "status": "ok",
     "timestamp": 1640626077109,
     "user": {
      "displayName": "Christina Vergara Ossenberg",
      "photoUrl": "https://lh3.googleusercontent.com/a/default-user=s64",
      "userId": "02650763533864884671"
     },
     "user_tz": -60
    },
    "id": "0UHYlZFnSK7x",
    "outputId": "245f4c5d-b9f6-495f-b091-2c557a515e13"
   },
   "outputs": [],
   "source": [
    "bins_equal_entries"
   ]
  },
  {
   "cell_type": "code",
   "execution_count": null,
   "metadata": {
    "colab": {
     "base_uri": "https://localhost:8080/",
     "height": 912
    },
    "executionInfo": {
     "elapsed": 7162,
     "status": "ok",
     "timestamp": 1640626341166,
     "user": {
      "displayName": "Christina Vergara Ossenberg",
      "photoUrl": "https://lh3.googleusercontent.com/a/default-user=s64",
      "userId": "02650763533864884671"
     },
     "user_tz": -60
    },
    "id": "jBBx5ErvUT7c",
    "outputId": "ecf42f20-a530-4ffd-d45f-6ec899830f74"
   },
   "outputs": [],
   "source": [
    "# now plot -> first prepare 2x2 canvas\n",
    "fig, ax = plt.subplots(2, 2, figsize=(15, 15))\n",
    "ax = ax.flatten()\n",
    "\n",
    "# first plot original results\n",
    "divider = make_axes_locatable(ax[0])\n",
    "cax = divider.append_axes(\"right\", size=\"5%\", pad=0.1)\n",
    "results.plot(ax=ax[0], column=\"num_tracks_total\", cmap=\"Blues\", legend=True, cax=cax)\n",
    "#cx.add_basemap(ax=ax[0], crs=tracks_filtered.crs, source=cx.providers.OpenStreetMap.BlackAndWhite)\n",
    "ax[0].set_title(\"Traffic density estimation using \\n original data\")\n",
    "\n",
    "# then plot results using vmax = 10\n",
    "divider = make_axes_locatable(ax[1])\n",
    "cax = divider.append_axes(\"right\", size=\"5%\", pad=0.1)\n",
    "results.plot(ax=ax[1], column=\"num_tracks_total\", cmap=\"Blues\", legend=True, cax=cax, vmax=10)\n",
    "#cx.add_basemap(ax=ax[1], crs=tracks_filtered.crs, source=cx.providers.OpenStreetMap.BlackAndWhite)\n",
    "ax[1].set_title(\"Traffic density estimation using \\n vmax = 20\")\n",
    "\n",
    "# now using bins with equal entries\n",
    "results.plot(ax=ax[2], column=bins_equal_entries, cmap=\"Blues\", legend=True, categorical=True)\n",
    "#cx.add_basemap(ax=ax[2], crs=results.crs, source=cx.providers.OpenStreetMap.BlackAndWhite)\n",
    "ax[2].set_title(\"Traffic density estimation using \\n bins with equal amount of entries\")\n",
    "\n",
    "# now using bins with same width\n",
    "results.plot(ax=ax[3], column=bins_equal_width, cmap=\"Blues\", legend=True, categorical=True)\n",
    "#cx.add_basemap(ax=ax[3], crs=results.crs, source=cx.providers.OpenStreetMap.BlackAndWhite)\n",
    "ax[3].set_title(\"Traffic density estimation using \\n bins with equal width\")"
   ]
  },
  {
   "cell_type": "markdown",
   "metadata": {
    "id": "oQUL7iuNmG0T"
   },
   "source": [
    "Using real DTV values of Münster, we would be able to check which approach is most suitable."
   ]
  },
  {
   "cell_type": "markdown",
   "metadata": {
    "id": "Pr7-tsy68mXG"
   },
   "source": [
    "## Applying nonlinear colormap"
   ]
  },
  {
   "cell_type": "code",
   "execution_count": null,
   "metadata": {
    "id": "JOZWWfGL8sXn"
   },
   "outputs": [],
   "source": [
    "t=results['num_tracks_total']\n",
    "\n",
    "class nlcmap(object):\n",
    "    def __init__(self, cmap, levels):\n",
    "        self.cmap = cmap\n",
    "        self.N = cmap.N\n",
    "        self.monochrome = self.cmap.monochrome\n",
    "        self.levels = np.asarray(levels, dtype='float64')\n",
    "        self._x = self.levels\n",
    "        self.levmax = self.levels.max()\n",
    "        self.transformed_levels = np.linspace(0.0, self.levmax,\n",
    "             len(self.levels))\n",
    "\n",
    "    def __call__(self, xi, alpha=1.0, **kw):\n",
    "        yi = np.interp(xi, self._x, self.transformed_levels)\n",
    "        return self.cmap(yi / self.levmax, alpha)\n",
    "\n",
    "tmax = max(t)\n",
    "#the choice of the levels depends on the data:\n",
    "levels = np.concatenate((\n",
    "   # [0, tmax],\n",
    "    np.array([1,2,3,4,5,6,7,8,9]),\n",
    "    np.linspace(10, tmax, 4), # Hier anpassen\n",
    "    ))\n",
    "\n",
    "levels = levels[levels <= tmax]\n",
    "levels.sort()\n",
    "\n",
    "cmap_nonlin = nlcmap(plt.cm.plasma, levels) #OrRd"
   ]
  },
  {
   "cell_type": "code",
   "execution_count": null,
   "metadata": {
    "colab": {
     "base_uri": "https://localhost:8080/",
     "height": 703
    },
    "executionInfo": {
     "elapsed": 2118,
     "status": "ok",
     "timestamp": 1640626084819,
     "user": {
      "displayName": "Christina Vergara Ossenberg",
      "photoUrl": "https://lh3.googleusercontent.com/a/default-user=s64",
      "userId": "02650763533864884671"
     },
     "user_tz": -60
    },
    "id": "islKQu2P9ABt",
    "outputId": "3b375bba-af27-4a36-8ad6-a7bfccae9868"
   },
   "outputs": [],
   "source": [
    "\n",
    "fig, ax=plt.subplots(1,1,figsize=(10,12))\n",
    "\n",
    "divider = make_axes_locatable(ax)\n",
    "cax = divider.append_axes(\"right\", size=\"5%\", pad=0.1)\n",
    "\n",
    "results.plot(ax=ax, column=\"num_tracks_total\", cmap=cmap_nonlin.cmap, cax=cax)\n",
    "#cx.add_basemap(ax=ax, crs=results.crs, source=cx.providers.OpenStreetMap.BlackAndWhite)\n",
    "ax.set_title(\"Traffic density estimation using nonlinear colormap\")\n",
    "\n",
    "sm = plt.cm.ScalarMappable(cmap=plt.cm.plasma, norm=plt.Normalize(vmin=0, vmax=tmax))\n",
    "sm._A = []\n",
    "\n",
    "cbar = fig.colorbar(sm, cax=cax)\n",
    "#here we relabel the linear colorbar ticks to match the nonlinear ticks\n",
    "cbar.set_ticks(cmap_nonlin.transformed_levels)\n",
    "cbar.set_ticklabels([\"%.2f\" % lev for lev in levels])"
   ]
  },
  {
   "cell_type": "markdown",
   "metadata": {
    "id": "V5Jos0Jd0lSB"
   },
   "source": [
    "## Tracks separated by weekend / weekday\n",
    "We will compare our estimated traffic densitiies for the weekend, weekdays and the total counts. For mapping we will use vmax to structure the colorbar, as this seems the most realistic assumption (everything above vmax = 10 is considered haevy traffic and does not need to be distinguished any further)."
   ]
  },
  {
   "cell_type": "code",
   "execution_count": null,
   "metadata": {
    "colab": {
     "base_uri": "https://localhost:8080/",
     "height": 325
    },
    "executionInfo": {
     "elapsed": 560,
     "status": "ok",
     "timestamp": 1640626085300,
     "user": {
      "displayName": "Christina Vergara Ossenberg",
      "photoUrl": "https://lh3.googleusercontent.com/a/default-user=s64",
      "userId": "02650763533864884671"
     },
     "user_tz": -60
    },
    "id": "nFJ805JI-f9n",
    "outputId": "04bcc2a7-432d-46c8-aec3-1a422b5c4008"
   },
   "outputs": [],
   "source": [
    "# let's take a look at the distributions first\n",
    "ax = results[[\"num_tracks_total\", \"num_tracks_weekday\", \"num_tracks_weekend\"]].boxplot(figsize=(20, 5), vert=False)\n",
    "ax.set_title(\"Distribution of estimated traffic density\", fontsize=20)"
   ]
  },
  {
   "cell_type": "markdown",
   "metadata": {
    "id": "X-Gzt9Z2AJfa"
   },
   "source": [
    "We can see extreme outliers for all three kinds of track counts. However the maximum of the weekday and weekend data is less than the total (to be expected). The max of the weekend is even less than the weekday traffic."
   ]
  },
  {
   "cell_type": "code",
   "execution_count": null,
   "metadata": {
    "colab": {
     "base_uri": "https://localhost:8080/",
     "height": 206
    },
    "executionInfo": {
     "elapsed": 79,
     "status": "ok",
     "timestamp": 1640626085304,
     "user": {
      "displayName": "Christina Vergara Ossenberg",
      "photoUrl": "https://lh3.googleusercontent.com/a/default-user=s64",
      "userId": "02650763533864884671"
     },
     "user_tz": -60
    },
    "id": "nLG_xWFau3Uz",
    "outputId": "0d77f159-cba7-44fc-a3e5-d4046cdd135c"
   },
   "outputs": [],
   "source": [
    "# same plot but now we filter all streets that have no tracks on them -> this way the other values won't be as skewed\n",
    "# we can't filter data as it is, because we can only eliminate complete rows -> so first stack (and remove num_tracks from index)\n",
    "only_tracks = results[[\"num_tracks_total\", \"num_tracks_weekday\", \"num_tracks_weekend\"]].stack().reset_index(level=1)\n",
    "\n",
    "# rename for convenience\n",
    "only_tracks.columns = [\"track_type\", \"value\"]\n",
    "only_tracks.head()"
   ]
  },
  {
   "cell_type": "code",
   "execution_count": null,
   "metadata": {
    "colab": {
     "base_uri": "https://localhost:8080/",
     "height": 384
    },
    "executionInfo": {
     "elapsed": 81,
     "status": "ok",
     "timestamp": 1640626085310,
     "user": {
      "displayName": "Christina Vergara Ossenberg",
      "photoUrl": "https://lh3.googleusercontent.com/a/default-user=s64",
      "userId": "02650763533864884671"
     },
     "user_tz": -60
    },
    "id": "w7xlK0-I1HCq",
    "outputId": "05a3930b-c22d-4389-f560-f232c7702f35"
   },
   "outputs": [],
   "source": [
    "# now we can easily filter and then do a grouped boxplot\n",
    "ax = only_tracks[only_tracks[\"value\"] > 0].boxplot(by=\"track_type\", vert=False, figsize=(20, 5), labels=None)\n",
    "ax.set_title(\"Distribution of estimated traffic density\", fontsize=20)\n",
    "plt.suptitle(\"\")"
   ]
  },
  {
   "cell_type": "markdown",
   "metadata": {
    "id": "bFap9t468bqC"
   },
   "source": [
    "The data is still cluttered around the lower edge of the value range. We can still see that the amount of tracks on a segment during the weekend varies less than during the week. The boxes for weekday and total look almost the same."
   ]
  },
  {
   "cell_type": "code",
   "execution_count": null,
   "metadata": {
    "colab": {
     "base_uri": "https://localhost:8080/",
     "height": 452
    },
    "executionInfo": {
     "elapsed": 5617,
     "status": "ok",
     "timestamp": 1640626582841,
     "user": {
      "displayName": "Christina Vergara Ossenberg",
      "photoUrl": "https://lh3.googleusercontent.com/a/default-user=s64",
      "userId": "02650763533864884671"
     },
     "user_tz": -60
    },
    "id": "GeJ-T-ZS1KVm",
    "outputId": "13295197-6629-486b-af1a-0ac99d08d061"
   },
   "outputs": [],
   "source": [
    "# prepare canvas first\n",
    "fig, ax = plt.subplots(1, 3, figsize=(30, 10))\n",
    "\n",
    "# plot total count\n",
    "divider = make_axes_locatable(ax[0])\n",
    "cax = divider.append_axes(\"right\", size=\"5%\", pad=0.1)\n",
    "results.plot(ax=ax[0], column=\"num_tracks_total\", cmap=\"Blues\", legend=True, cax=cax, vmax=10)\n",
    "#cx.add_basemap(ax=ax[0], crs=results.crs, source=cx.providers.OpenStreetMap.BlackAndWhite)\n",
    "ax[0].set_title(\"Traffic density estimation using total track counts\")\n",
    "\n",
    "# plot weekday count\n",
    "divider = make_axes_locatable(ax[1])\n",
    "cax = divider.append_axes(\"right\", size=\"5%\", pad=0.1)\n",
    "results.plot(ax=ax[1], column=\"num_tracks_weekday\", cmap=\"Blues\", legend=True, cax=cax, vmax=10)\n",
    "#cx.add_basemap(ax=ax[1], crs=results.crs, source=cx.providers.OpenStreetMap.BlackAndWhite)\n",
    "ax[1].set_title(\"Traffic density estimation using weekday track counts\")\n",
    "\n",
    "# plot weekend count\n",
    "divider = make_axes_locatable(ax[2])\n",
    "cax = divider.append_axes(\"right\", size=\"5%\", pad=0.1)\n",
    "results.plot(ax=ax[2], column=\"num_tracks_weekend\", cmap=\"Blues\", legend=True, cax=cax, vmax=10)\n",
    "#cx.add_basemap(ax=ax[2], crs=results.crs, source=cx.providers.OpenStreetMap.BlackAndWhite)\n",
    "ax[2].set_title(\"Traffic density estimation using weekend track counts\")\n",
    "\n",
    "fig.suptitle(\"Comparison of estimated traffic density using the same colormap (vmax=20)\", fontsize=25)"
   ]
  },
  {
   "cell_type": "markdown",
   "metadata": {
    "id": "BwlMxGURBwVR"
   },
   "source": [
    "We can see that the weekend traffic is less heave than during the week. The roads with the most traffic stay the same though, with a couple of exceptions. Another way to look at this is using individual vmax values (taken from the distributions, the upper whisker in the box plot = 75% + 1.5 * (75% - 25%))."
   ]
  },
  {
   "cell_type": "code",
   "execution_count": null,
   "metadata": {
    "colab": {
     "base_uri": "https://localhost:8080/",
     "height": 300
    },
    "executionInfo": {
     "elapsed": 59,
     "status": "ok",
     "timestamp": 1640626090264,
     "user": {
      "displayName": "Christina Vergara Ossenberg",
      "photoUrl": "https://lh3.googleusercontent.com/a/default-user=s64",
      "userId": "02650763533864884671"
     },
     "user_tz": -60
    },
    "id": "9QsYuFmzCSxd",
    "outputId": "ee6f2648-4bd9-41eb-f5c9-bc5436e6b584"
   },
   "outputs": [],
   "source": [
    "results.describe()"
   ]
  },
  {
   "cell_type": "code",
   "execution_count": null,
   "metadata": {
    "colab": {
     "base_uri": "https://localhost:8080/",
     "height": 454
    },
    "executionInfo": {
     "elapsed": 5475,
     "status": "ok",
     "timestamp": 1640626731079,
     "user": {
      "displayName": "Christina Vergara Ossenberg",
      "photoUrl": "https://lh3.googleusercontent.com/a/default-user=s64",
      "userId": "02650763533864884671"
     },
     "user_tz": -60
    },
    "id": "bIAz4V6PEJv6",
    "outputId": "2ee2215e-3509-45a8-a72d-a6b8621a5e38"
   },
   "outputs": [],
   "source": [
    "# prepare canvas first\n",
    "fig, ax = plt.subplots(1, 3, figsize=(30, 10))\n",
    "\n",
    "# plot total count (vmax = 11)\n",
    "divider = make_axes_locatable(ax[0])\n",
    "cax = divider.append_axes(\"right\", size=\"5%\", pad=0.1)\n",
    "results.plot(ax=ax[0], column=\"num_tracks_total\", cmap=\"Blues\", legend=True, cax=cax, vmax=11)\n",
    "#cx.add_basemap(ax=ax[0], crs=results.crs, source=cx.providers.OpenStreetMap.BlackAndWhite)\n",
    "ax[0].set_title(\"Traffic density estimation using total track counts\")\n",
    "\n",
    "# plot weekday count (vmax = 10)\n",
    "divider = make_axes_locatable(ax[1])\n",
    "cax = divider.append_axes(\"right\", size=\"5%\", pad=0.1)\n",
    "results.plot(ax=ax[1], column=\"num_tracks_weekday\", cmap=\"Blues\", legend=True, cax=cax, vmax=10)\n",
    "#cx.add_basemap(ax=ax[1], crs=results.crs, source=cx.providers.OpenStreetMap.BlackAndWhite)\n",
    "ax[1].set_title(\"Traffic density estimation using weekday track counts\")\n",
    "\n",
    "# plot weekend count (vmax = 5)\n",
    "divider = make_axes_locatable(ax[2])\n",
    "cax = divider.append_axes(\"right\", size=\"5%\", pad=0.1)\n",
    "results.plot(ax=ax[2], column=\"num_tracks_weekend\", cmap=\"Blues\", legend=True, cax=cax, vmax=5)\n",
    "#cx.add_basemap(ax=ax[2], crs=results.crs, source=cx.providers.OpenStreetMap.BlackAndWhite)\n",
    "ax[2].set_title(\"Traffic density estimation using weekend track counts\")\n",
    "\n",
    "fig.suptitle(\"Comparison of estimated traffic density using individual colormaps\", fontsize=25)"
   ]
  },
  {
   "cell_type": "markdown",
   "metadata": {
    "id": "rS-YGcXDLfpH"
   },
   "source": [
    "We can see the same trends as above, but this time more clearly. Some streets are well frequented on weekdays and weekends, but some also relatively more heavily only on weekends (click on picture to see better). However, the absolute traffic level is less."
   ]
  }
 ],
 "metadata": {
  "colab": {
   "collapsed_sections": [],
   "name": "muenster_traffic_density_estimation.ipynb",
   "provenance": [
    {
     "file_id": "1kcE04XbDqDzrQ1s16W4QWjF9XF1uNBbx",
     "timestamp": 1640260862873
    },
    {
     "file_id": "1GeGTwMoOLVUgHjaO2cisFkhNyVYoH2MS",
     "timestamp": 1638463517998
    }
   ],
   "toc_visible": true
  },
  "kernelspec": {
   "display_name": "Python 3 (ipykernel)",
   "language": "python",
   "name": "python3"
  },
  "language_info": {
   "codemirror_mode": {
    "name": "ipython",
    "version": 3
   },
   "file_extension": ".py",
   "mimetype": "text/x-python",
   "name": "python",
   "nbconvert_exporter": "python",
   "pygments_lexer": "ipython3",
   "version": "3.9.12"
  }
 },
 "nbformat": 4,
 "nbformat_minor": 1
}
